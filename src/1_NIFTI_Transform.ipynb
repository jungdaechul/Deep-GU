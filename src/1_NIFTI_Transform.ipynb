{
 "cells": [
  {
   "cell_type": "code",
   "execution_count": 15,
   "metadata": {},
   "outputs": [],
   "source": [
    "import os\n",
    "import glob\n",
    "import shutil\n",
    "from batchgenerators.utilities.file_and_folder_operations import *\n",
    "from Tindex_nrrd_to_nifti import nrrd_to_nii\n",
    "import numpy as np\n",
    "from tqdm import tqdm"
   ]
  },
  {
   "cell_type": "code",
   "execution_count": 16,
   "metadata": {},
   "outputs": [],
   "source": [
    "def nr_to_ni(ref_folder):\n",
    "    for file in subfiles(ref_folder):\n",
    "        if 'seg.nrrd' in file:\n",
    "            seg_path = file\n",
    "        else:\n",
    "            ori_path = file\n",
    "            \n",
    "    new_folder_path = join(new_path, ref_folder.split('/')[-1])\n",
    "    maybe_mkdir_p(new_folder_path)\n",
    "    \n",
    "    ori_save_path = join(new_folder_path, 'imaging.nii.gz')\n",
    "    seg_save_path = join(new_folder_path, 'segmentation.nii.gz')\n",
    "    \n",
    "    nrrd_to_nii(ori_path, seg_path, ori_save_path, seg_save_path)\n",
    "    print('save complete:' ,ori_save_path)\n",
    "    print('save complete:' ,seg_save_path)"
   ]
  },
  {
   "cell_type": "code",
   "execution_count": 4,
   "metadata": {},
   "outputs": [],
   "source": [
    "ref_path = '/home/ldh/1_Tindex/data/T_Index_nrrd'\n",
    "new_path = '/home/ldh/1_Tindex/data/T_Index_nii'\n",
    "folders = subfolders(ref_path)"
   ]
  },
  {
   "cell_type": "code",
   "execution_count": 5,
   "metadata": {
    "collapsed": true
   },
   "outputs": [
    {
     "name": "stdout",
     "output_type": "stream",
     "text": [
      "save complete: /home/ldh/1_Tindex/data/T_Index_nii_final_test/002_3685594_220325_CMP_KO/imaging.nii.gz\n",
      "save complete: /home/ldh/1_Tindex/data/T_Index_nii_final_test/002_3685594_220325_CMP_KO/segmentation.nii.gz\n",
      "save complete: /home/ldh/1_Tindex/data/T_Index_nii_final_test/002_3685594_220325_NP_HK/imaging.nii.gz\n",
      "save complete: /home/ldh/1_Tindex/data/T_Index_nii_final_test/002_3685594_220325_NP_HK/segmentation.nii.gz\n",
      "save complete: /home/ldh/1_Tindex/data/T_Index_nii_final_test/001_2627046_211022_CMP_preop_KO/imaging.nii.gz\n",
      "save complete: /home/ldh/1_Tindex/data/T_Index_nii_final_test/001_2627046_211022_CMP_preop_KO/segmentation.nii.gz\n",
      "save complete: /home/ldh/1_Tindex/data/T_Index_nii_final_test/002_3685594_211022_CMP_preop_KO/imaging.nii.gz\n",
      "save complete: /home/ldh/1_Tindex/data/T_Index_nii_final_test/002_3685594_211022_CMP_preop_KO/segmentation.nii.gz\n",
      "save complete: /home/ldh/1_Tindex/data/T_Index_nii_final_test/003_2597321_211217_CMP_preop_KO/imaging.nii.gz\n",
      "save complete: /home/ldh/1_Tindex/data/T_Index_nii_final_test/003_2597321_211217_CMP_preop_KO/segmentation.nii.gz\n",
      "save complete: /home/ldh/1_Tindex/data/T_Index_nii_final_test/004_10506248_211220_CMP_preop_KO/imaging.nii.gz\n",
      "save complete: /home/ldh/1_Tindex/data/T_Index_nii_final_test/004_10506248_211220_CMP_preop_KO/segmentation.nii.gz\n",
      "save complete: /home/ldh/1_Tindex/data/T_Index_nii_final_test/001_2627046_211022_NP_preop_HK/imaging.nii.gz\n",
      "save complete: /home/ldh/1_Tindex/data/T_Index_nii_final_test/001_2627046_211022_NP_preop_HK/segmentation.nii.gz\n",
      "save complete: /home/ldh/1_Tindex/data/T_Index_nii_final_test/003_2597321_211217_NP_preop_HK/imaging.nii.gz\n",
      "save complete: /home/ldh/1_Tindex/data/T_Index_nii_final_test/003_2597321_211217_NP_preop_HK/segmentation.nii.gz\n",
      "save complete: /home/ldh/1_Tindex/data/T_Index_nii_final_test/002_3685594_211022_NP_preop_HK/imaging.nii.gz\n",
      "save complete: /home/ldh/1_Tindex/data/T_Index_nii_final_test/002_3685594_211022_NP_preop_HK/segmentation.nii.gz\n",
      "save complete: /home/ldh/1_Tindex/data/T_Index_nii_final_test/004_10506248_211220_NP_preop_HK/imaging.nii.gz\n",
      "save complete: /home/ldh/1_Tindex/data/T_Index_nii_final_test/004_10506248_211220_NP_preop_HK/segmentation.nii.gz\n",
      "save complete: /home/ldh/1_Tindex/data/T_Index_nii_final_test/004_10506248_221202_CMP_KO/imaging.nii.gz\n",
      "save complete: /home/ldh/1_Tindex/data/T_Index_nii_final_test/004_10506248_221202_CMP_KO/segmentation.nii.gz\n",
      "save complete: /home/ldh/1_Tindex/data/T_Index_nii_final_test/004_10506248_220603_CMP_KO/imaging.nii.gz\n",
      "save complete: /home/ldh/1_Tindex/data/T_Index_nii_final_test/004_10506248_220603_CMP_KO/segmentation.nii.gz\n",
      "save complete: /home/ldh/1_Tindex/data/T_Index_nii_final_test/004_10506248_221202_NP_KO/imaging.nii.gz\n",
      "save complete: /home/ldh/1_Tindex/data/T_Index_nii_final_test/004_10506248_221202_NP_KO/segmentation.nii.gz\n",
      "save complete: /home/ldh/1_Tindex/data/T_Index_nii_final_test/005_5681816_211223_CMP_preop_KO/imaging.nii.gz\n",
      "save complete: /home/ldh/1_Tindex/data/T_Index_nii_final_test/005_5681816_211223_CMP_preop_KO/segmentation.nii.gz\n",
      "save complete: /home/ldh/1_Tindex/data/T_Index_nii_final_test/006_10515548_220103_CMP_preop_KO/imaging.nii.gz\n",
      "save complete: /home/ldh/1_Tindex/data/T_Index_nii_final_test/006_10515548_220103_CMP_preop_KO/segmentation.nii.gz\n",
      "save complete: /home/ldh/1_Tindex/data/T_Index_nii_final_test/006_10515548_220607_CMP_KO/imaging.nii.gz\n",
      "save complete: /home/ldh/1_Tindex/data/T_Index_nii_final_test/006_10515548_220607_CMP_KO/segmentation.nii.gz\n",
      "save complete: /home/ldh/1_Tindex/data/T_Index_nii_final_test/004_10506248_220603_NP_HK/imaging.nii.gz\n",
      "save complete: /home/ldh/1_Tindex/data/T_Index_nii_final_test/004_10506248_220603_NP_HK/segmentation.nii.gz\n",
      "save complete: /home/ldh/1_Tindex/data/T_Index_nii_final_test/005_5681816_211223_NP_preop_HK/imaging.nii.gz\n",
      "save complete: /home/ldh/1_Tindex/data/T_Index_nii_final_test/005_5681816_211223_NP_preop_HK/segmentation.nii.gz\n",
      "save complete: /home/ldh/1_Tindex/data/T_Index_nii_final_test/006_10515548_220103_NP_preop_HK/imaging.nii.gz\n",
      "save complete: /home/ldh/1_Tindex/data/T_Index_nii_final_test/006_10515548_220103_NP_preop_HK/segmentation.nii.gz\n",
      "save complete: /home/ldh/1_Tindex/data/T_Index_nii_final_test/007_8572841_220127_CMP_preop_KO/imaging.nii.gz\n",
      "save complete: /home/ldh/1_Tindex/data/T_Index_nii_final_test/007_8572841_220127_CMP_preop_KO/segmentation.nii.gz\n",
      "save complete: /home/ldh/1_Tindex/data/T_Index_nii_final_test/009_10537082_220215_CMP_preop_KO/imaging.nii.gz\n",
      "save complete: /home/ldh/1_Tindex/data/T_Index_nii_final_test/009_10537082_220215_CMP_preop_KO/segmentation.nii.gz\n",
      "save complete: /home/ldh/1_Tindex/data/T_Index_nii_final_test/010_10537082_220311_CMP_preop_KO/imaging.nii.gz\n",
      "save complete: /home/ldh/1_Tindex/data/T_Index_nii_final_test/010_10537082_220311_CMP_preop_KO/segmentation.nii.gz\n",
      "save complete: /home/ldh/1_Tindex/data/T_Index_nii_final_test/006_10515548_220607_NP_HK/imaging.nii.gz\n",
      "save complete: /home/ldh/1_Tindex/data/T_Index_nii_final_test/006_10515548_220607_NP_HK/segmentation.nii.gz\n",
      "save complete: /home/ldh/1_Tindex/data/T_Index_nii_final_test/007_8572841_220127_NP_preop_HK/imaging.nii.gz\n",
      "save complete: /home/ldh/1_Tindex/data/T_Index_nii_final_test/007_8572841_220127_NP_preop_HK/segmentation.nii.gz\n",
      "save complete: /home/ldh/1_Tindex/data/T_Index_nii_final_test/009_10537082_220215_NP_preop_HK/imaging.nii.gz\n",
      "save complete: /home/ldh/1_Tindex/data/T_Index_nii_final_test/009_10537082_220215_NP_preop_HK/segmentation.nii.gz\n",
      "save complete: /home/ldh/1_Tindex/data/T_Index_nii_final_test/011_8317556_220509_CMP_preop_KO/imaging.nii.gz\n",
      "save complete: /home/ldh/1_Tindex/data/T_Index_nii_final_test/011_8317556_220509_CMP_preop_KO/segmentation.nii.gz\n",
      "save complete: /home/ldh/1_Tindex/data/T_Index_nii_final_test/010_10554561_220311_NP_preop_HK/imaging.nii.gz\n",
      "save complete: /home/ldh/1_Tindex/data/T_Index_nii_final_test/010_10554561_220311_NP_preop_HK/segmentation.nii.gz\n",
      "save complete: /home/ldh/1_Tindex/data/T_Index_nii_final_test/012_10652021_20220812_NP_preop_HK/imaging.nii.gz\n",
      "save complete: /home/ldh/1_Tindex/data/T_Index_nii_final_test/012_10652021_20220812_NP_preop_HK/segmentation.nii.gz\n",
      "save complete: /home/ldh/1_Tindex/data/T_Index_nii_final_test/011_8317556_220509_NP_preop_HK/imaging.nii.gz\n",
      "save complete: /home/ldh/1_Tindex/data/T_Index_nii_final_test/011_8317556_220509_NP_preop_HK/segmentation.nii.gz\n",
      "save complete: /home/ldh/1_Tindex/data/T_Index_nii_final_test/012_10652021_220812_CMP_preop_KO/imaging.nii.gz\n",
      "save complete: /home/ldh/1_Tindex/data/T_Index_nii_final_test/012_10652021_220812_CMP_preop_KO/segmentation.nii.gz\n"
     ]
    }
   ],
   "source": [
    "from multiprocessing import Pool\n",
    "p = Pool(4)\n",
    "p.map(nr_to_ni, folders)\n",
    "p.close()\n",
    "p.join()"
   ]
  },
  {
   "cell_type": "code",
   "execution_count": 4,
   "metadata": {
    "collapsed": true
   },
   "outputs": [
    {
     "name": "stdout",
     "output_type": "stream",
     "text": [
      "/data/T_Index/T_Index_nii/001\n",
      "/data/T_Index/T_Index_nii/003\n",
      "/data/T_Index/T_Index_nii/005\n",
      "/data/T_Index/T_Index_nii/008\n",
      "/data/T_Index/T_Index_nii/010\n",
      "/data/T_Index/T_Index_nii/016\n",
      "/data/T_Index/T_Index_nii/018\n",
      "/data/T_Index/T_Index_nii/021\n",
      "/data/T_Index/T_Index_nii/023\n",
      "/data/T_Index/T_Index_nii/026\n",
      "/data/T_Index/T_Index_nii/029\n",
      "/data/T_Index/T_Index_nii/032\n",
      "/data/T_Index/T_Index_nii/033\n",
      "/data/T_Index/T_Index_nii/035\n",
      "/data/T_Index/T_Index_nii/037\n",
      "/data/T_Index/T_Index_nii/040\n",
      "/data/T_Index/T_Index_nii/041\n",
      "/data/T_Index/T_Index_nii/044\n",
      "/data/T_Index/T_Index_nii/048\n",
      "/data/T_Index/T_Index_nii/053\n",
      "/data/T_Index/T_Index_nii/055\n",
      "/data/T_Index/T_Index_nii/057\n",
      "/data/T_Index/T_Index_nii/058\n",
      "/data/T_Index/T_Index_nii/060\n",
      "/data/T_Index/T_Index_nii/061\n",
      "/data/T_Index/T_Index_nii/063\n",
      "/data/T_Index/T_Index_nii/064\n",
      "/data/T_Index/T_Index_nii/067\n",
      "/data/T_Index/T_Index_nii/069\n",
      "/data/T_Index/T_Index_nii/070\n",
      "/data/T_Index/T_Index_nii/072\n",
      "/data/T_Index/T_Index_nii/073\n",
      "/data/T_Index/T_Index_nii/074\n",
      "/data/T_Index/T_Index_nii/075\n",
      "/data/T_Index/T_Index_nii/076\n",
      "/data/T_Index/T_Index_nii/077\n",
      "/data/T_Index/T_Index_nii/080\n",
      "/data/T_Index/T_Index_nii/081\n",
      "/data/T_Index/T_Index_nii/082\n",
      "/data/T_Index/T_Index_nii/083\n",
      "/data/T_Index/T_Index_nii/086\n",
      "/data/T_Index/T_Index_nii/087\n",
      "/data/T_Index/T_Index_nii/088\n",
      "/data/T_Index/T_Index_nii/090\n",
      "/data/T_Index/T_Index_nii/092\n",
      "/data/T_Index/T_Index_nii/095\n",
      "/data/T_Index/T_Index_nii/098\n",
      "/data/T_Index/T_Index_nii/100\n",
      "/data/T_Index/T_Index_nii/102\n",
      "/data/T_Index/T_Index_nii/103\n",
      "/data/T_Index/T_Index_nii/104\n",
      "/data/T_Index/T_Index_nii/105\n",
      "/data/T_Index/T_Index_nii/107\n",
      "/data/T_Index/T_Index_nii/108\n",
      "/data/T_Index/T_Index_nii/109\n",
      "/data/T_Index/T_Index_nii/112\n",
      "/data/T_Index/T_Index_nii/113\n",
      "/data/T_Index/T_Index_nii/116\n",
      "/data/T_Index/T_Index_nii/119\n",
      "/data/T_Index/T_Index_nii/120\n",
      "/data/T_Index/T_Index_nii/126\n",
      "/data/T_Index/T_Index_nii/127\n",
      "/data/T_Index/T_Index_nii/128\n",
      "/data/T_Index/T_Index_nii/129\n",
      "/data/T_Index/T_Index_nii/131\n",
      "/data/T_Index/T_Index_nii/135\n",
      "/data/T_Index/T_Index_nii/137\n",
      "/data/T_Index/T_Index_nii/140\n",
      "/data/T_Index/T_Index_nii/142\n",
      "/data/T_Index/T_Index_nii/143\n",
      "/data/T_Index/T_Index_nii/144\n",
      "/data/T_Index/T_Index_nii/146\n",
      "/data/T_Index/T_Index_nii/150\n",
      "/data/T_Index/T_Index_nii/152\n",
      "/data/T_Index/T_Index_nii/153\n",
      "/data/T_Index/T_Index_nii/158\n",
      "/data/T_Index/T_Index_nii/160\n",
      "/data/T_Index/T_Index_nii/162\n",
      "/data/T_Index/T_Index_nii/164\n",
      "/data/T_Index/T_Index_nii/167\n",
      "/data/T_Index/T_Index_nii/171\n",
      "/data/T_Index/T_Index_nii/172\n",
      "/data/T_Index/T_Index_nii/175\n"
     ]
    }
   ],
   "source": [
    "# orientation check\n",
    "import SimpleITK as sitk\n",
    "for fold in subfolders(new_path):\n",
    "    print(fold)\n",
    "    \n",
    "    ori_path = join(fold, 'imaging.nii.gz')\n",
    "    img = sitk.ReadImage(ori_path)\n",
    "    ori = sitk.GetArrayFromImage(img)\n",
    "    \n",
    "    seg_path = join(fold, 'segmentation.nii.gz')\n",
    "    seg_img = sitk.ReadImage(seg_path)\n",
    "    seg = sitk.GetArrayFromImage(seg_img)\n",
    "    \n",
    "    if img.GetDirection()[0] != 1.0 :\n",
    "        ori = np.flip(ori,axis=2)\n",
    "        seg = np.flip(seg,axis=2)\n",
    "    if img.GetDirection()[4] != 1.0 :\n",
    "        ori = np.flip(ori,axis=1)\n",
    "        seg = np.flip(seg,axis=1)\n",
    "    if img.GetDirection()[-1] != 1.0 :\n",
    "        ori = np.flip(ori,axis=0)\n",
    "        seg = np.flip(seg,axis=0)\n",
    "    \n",
    "    if img.GetDirection() != (1.0, 0.0, 0.0, 0.0, 1.0, 0.0, 0.0, 0.0, 1.0):\n",
    "        new_img = sitk.GetImageFromArray(ori)\n",
    "        new_img.SetSpacing(img.GetSpacing())\n",
    "        new_img.SetOrigin(img.GetOrigin())\n",
    "        new_img.SetDirection((1.0, 0.0, 0.0, 0.0, 1.0, 0.0, 0.0, 0.0, 1.0))\n",
    "        sitk.WriteImage(new_img, ori_path)    \n",
    "        print(ori_path)\n",
    "        \n",
    "        new_seg_img = sitk.GetImageFromArray(seg)\n",
    "        new_seg_img.SetSpacing(img.GetSpacing())\n",
    "        new_seg_img.SetOrigin(img.GetOrigin())\n",
    "        new_seg_img.SetDirection((1.0, 0.0, 0.0, 0.0, 1.0, 0.0, 0.0, 0.0, 1.0))\n",
    "        sitk.WriteImage(new_seg_img, seg_path)    \n",
    "        print(seg_path)"
   ]
  },
  {
   "cell_type": "code",
   "execution_count": null,
   "metadata": {},
   "outputs": [],
   "source": [
    "# multi volume check"
   ]
  },
  {
   "cell_type": "code",
   "execution_count": 23,
   "metadata": {},
   "outputs": [],
   "source": [
    "import SimpleITK as sitk\n",
    "import nrrd\n",
    "a='/home/ldh/1_Tindex/data/T_Index_nrrd_test/444_8758096_181030_preop_dual/5MM - as a 3 frames MultiVolume by AcquisitionTime.nhdr'\n",
    "vol,header=nrrd.read(a)"
   ]
  },
  {
   "cell_type": "code",
   "execution_count": 24,
   "metadata": {},
   "outputs": [],
   "source": [
    "vol_new = vol[0]"
   ]
  },
  {
   "cell_type": "code",
   "execution_count": 25,
   "metadata": {},
   "outputs": [],
   "source": [
    "header['dimension']=3\n",
    "header['sizes']=header['sizes'][1:]\n",
    "header['space directions']=header['space directions'][1:]\n",
    "header['kinds']=header['kinds'][1:]"
   ]
  },
  {
   "cell_type": "code",
   "execution_count": 26,
   "metadata": {},
   "outputs": [],
   "source": [
    "b='/home/ldh/1_Tindex/data/T_Index_nrrd_test/444_8758096_181030_preop_dual/CMP.nrrd'\n",
    "nrrd.write(b, vol_new, header)"
   ]
  },
  {
   "cell_type": "code",
   "execution_count": 7,
   "metadata": {},
   "outputs": [
    {
     "name": "stdout",
     "output_type": "stream",
     "text": [
      "/home/ldh/1_Tindex/data/T_Index_nrrd_test/444_8758096_181030_preop_dual/5MM - as a 3 frames MultiVolume by AcquisitionTime.nhdr\n",
      "/home/ldh/1_Tindex/data/T_Index_nrrd_test/444_8758096_181030_preop_dual/5MM - as a 3 frames MultiVolume by AcquisitionTime.raw.gz\n"
     ]
    }
   ],
   "source": [
    "base_path='/home/ldh/1_Tindex/data/T_Index_nrrd_test'\n",
    "for f in subfolders(base_path):\n",
    "    for f2 in subfiles(f):\n",
    "        if 'MultiVolume' in f2:\n",
    "            print(f2)\n",
    "            multi_file=f2"
   ]
  },
  {
   "cell_type": "code",
   "execution_count": null,
   "metadata": {},
   "outputs": [],
   "source": []
  },
  {
   "cell_type": "code",
   "execution_count": null,
   "metadata": {},
   "outputs": [],
   "source": [
    "T-index_Acuzen_labeling"
   ]
  },
  {
   "cell_type": "markdown",
   "metadata": {},
   "source": [
    "TEST"
   ]
  },
  {
   "cell_type": "code",
   "execution_count": 17,
   "metadata": {},
   "outputs": [],
   "source": [
    "ref_path = '/home/ldh/1_Tindex/data/T_Index_nrrd_test_B'\n",
    "vol_path = '/home/ldh/1_Tindex/data/T_Index_nii_test_B/volume'\n",
    "mask_path = '/home/ldh/1_Tindex/data/T_Index_nii_test_B/mask'\n",
    "maybe_mkdir_p(vol_path)\n",
    "maybe_mkdir_p(mask_path)"
   ]
  },
  {
   "cell_type": "code",
   "execution_count": 18,
   "metadata": {},
   "outputs": [
    {
     "name": "stderr",
     "output_type": "stream",
     "text": [
      "  6%|▌         | 1/18 [00:18<05:21, 18.90s/it]"
     ]
    },
    {
     "name": "stdout",
     "output_type": "stream",
     "text": [
      "save complete: /home/ldh/1_Tindex/data/T_Index_nii_test_B/volume/458_8794304_181227_preop_0000.nii.gz\n",
      "save complete: /home/ldh/1_Tindex/data/T_Index_nii_test_B/mask/458_8794304_181227_preop.nii.gz\n"
     ]
    },
    {
     "name": "stderr",
     "output_type": "stream",
     "text": [
      "\r",
      " 11%|█         | 2/18 [00:23<03:54, 14.69s/it]"
     ]
    },
    {
     "name": "stdout",
     "output_type": "stream",
     "text": [
      "save complete: /home/ldh/1_Tindex/data/T_Index_nii_test_B/volume/459_3034805_181224_preop_0000.nii.gz\n",
      "save complete: /home/ldh/1_Tindex/data/T_Index_nii_test_B/mask/459_3034805_181224_preop.nii.gz\n"
     ]
    },
    {
     "name": "stderr",
     "output_type": "stream",
     "text": [
      "\r",
      " 17%|█▋        | 3/18 [00:29<02:59, 11.99s/it]"
     ]
    },
    {
     "name": "stdout",
     "output_type": "stream",
     "text": [
      "save complete: /home/ldh/1_Tindex/data/T_Index_nii_test_B/volume/462_8035121_190108_preop_0000.nii.gz\n",
      "save complete: /home/ldh/1_Tindex/data/T_Index_nii_test_B/mask/462_8035121_190108_preop.nii.gz\n"
     ]
    },
    {
     "name": "stderr",
     "output_type": "stream",
     "text": [
      "\r",
      " 22%|██▏       | 4/18 [00:34<02:18,  9.91s/it]"
     ]
    },
    {
     "name": "stdout",
     "output_type": "stream",
     "text": [
      "save complete: /home/ldh/1_Tindex/data/T_Index_nii_test_B/volume/464_8279838_190122_preop_0000.nii.gz\n",
      "save complete: /home/ldh/1_Tindex/data/T_Index_nii_test_B/mask/464_8279838_190122_preop.nii.gz\n"
     ]
    },
    {
     "name": "stderr",
     "output_type": "stream",
     "text": [
      "\r",
      " 28%|██▊       | 5/18 [00:43<02:04,  9.57s/it]"
     ]
    },
    {
     "name": "stdout",
     "output_type": "stream",
     "text": [
      "save complete: /home/ldh/1_Tindex/data/T_Index_nii_test_B/volume/481_8856525_190404_preop_0000.nii.gz\n",
      "save complete: /home/ldh/1_Tindex/data/T_Index_nii_test_B/mask/481_8856525_190404_preop.nii.gz\n"
     ]
    },
    {
     "name": "stderr",
     "output_type": "stream",
     "text": [
      "\r",
      " 33%|███▎      | 6/18 [00:45<01:28,  7.37s/it]"
     ]
    },
    {
     "name": "stdout",
     "output_type": "stream",
     "text": [
      "save complete: /home/ldh/1_Tindex/data/T_Index_nii_test_B/volume/485_8855172_190409_preop_0000.nii.gz\n",
      "save complete: /home/ldh/1_Tindex/data/T_Index_nii_test_B/mask/485_8855172_190409_preop.nii.gz\n"
     ]
    },
    {
     "name": "stderr",
     "output_type": "stream",
     "text": [
      "\r",
      " 39%|███▉      | 7/18 [00:55<01:29,  8.15s/it]"
     ]
    },
    {
     "name": "stdout",
     "output_type": "stream",
     "text": [
      "save complete: /home/ldh/1_Tindex/data/T_Index_nii_test_B/volume/542_10097654_190928_preop_0000.nii.gz\n",
      "save complete: /home/ldh/1_Tindex/data/T_Index_nii_test_B/mask/542_10097654_190928_preop.nii.gz\n"
     ]
    },
    {
     "name": "stderr",
     "output_type": "stream",
     "text": [
      "\r",
      " 44%|████▍     | 8/18 [01:01<01:15,  7.51s/it]"
     ]
    },
    {
     "name": "stdout",
     "output_type": "stream",
     "text": [
      "save complete: /home/ldh/1_Tindex/data/T_Index_nii_test_B/volume/573_101585253_200108_preop_0000.nii.gz\n",
      "save complete: /home/ldh/1_Tindex/data/T_Index_nii_test_B/mask/573_101585253_200108_preop.nii.gz\n"
     ]
    },
    {
     "name": "stderr",
     "output_type": "stream",
     "text": [
      "\r",
      " 50%|█████     | 9/18 [01:06<01:01,  6.78s/it]"
     ]
    },
    {
     "name": "stdout",
     "output_type": "stream",
     "text": [
      "save complete: /home/ldh/1_Tindex/data/T_Index_nii_test_B/volume/574_10166362_200130_preop_0000.nii.gz\n",
      "save complete: /home/ldh/1_Tindex/data/T_Index_nii_test_B/mask/574_10166362_200130_preop.nii.gz\n"
     ]
    },
    {
     "name": "stderr",
     "output_type": "stream",
     "text": [
      "\r",
      " 56%|█████▌    | 10/18 [01:14<00:56,  7.11s/it]"
     ]
    },
    {
     "name": "stdout",
     "output_type": "stream",
     "text": [
      "save complete: /home/ldh/1_Tindex/data/T_Index_nii_test_B/volume/576_10148339_191211_preop_0000.nii.gz\n",
      "save complete: /home/ldh/1_Tindex/data/T_Index_nii_test_B/mask/576_10148339_191211_preop.nii.gz\n"
     ]
    },
    {
     "name": "stderr",
     "output_type": "stream",
     "text": [
      "\r",
      " 61%|██████    | 11/18 [01:30<01:09,  9.91s/it]"
     ]
    },
    {
     "name": "stdout",
     "output_type": "stream",
     "text": [
      "save complete: /home/ldh/1_Tindex/data/T_Index_nii_test_B/volume/580_10140888_200204_preop_0000.nii.gz\n",
      "save complete: /home/ldh/1_Tindex/data/T_Index_nii_test_B/mask/580_10140888_200204_preop.nii.gz\n"
     ]
    },
    {
     "name": "stderr",
     "output_type": "stream",
     "text": [
      "\r",
      " 67%|██████▋   | 12/18 [01:43<01:04, 10.82s/it]"
     ]
    },
    {
     "name": "stdout",
     "output_type": "stream",
     "text": [
      "save complete: /home/ldh/1_Tindex/data/T_Index_nii_test_B/volume/583_10160375_200120_preop_0000.nii.gz\n",
      "save complete: /home/ldh/1_Tindex/data/T_Index_nii_test_B/mask/583_10160375_200120_preop.nii.gz\n"
     ]
    },
    {
     "name": "stderr",
     "output_type": "stream",
     "text": [
      "\r",
      " 72%|███████▏  | 13/18 [01:45<00:40,  8.19s/it]"
     ]
    },
    {
     "name": "stdout",
     "output_type": "stream",
     "text": [
      "save complete: /home/ldh/1_Tindex/data/T_Index_nii_test_B/volume/584_5718731_200320_preop_0000.nii.gz\n",
      "save complete: /home/ldh/1_Tindex/data/T_Index_nii_test_B/mask/584_5718731_200320_preop.nii.gz\n"
     ]
    },
    {
     "name": "stderr",
     "output_type": "stream",
     "text": [
      "\r",
      " 78%|███████▊  | 14/18 [01:53<00:32,  8.05s/it]"
     ]
    },
    {
     "name": "stdout",
     "output_type": "stream",
     "text": [
      "save complete: /home/ldh/1_Tindex/data/T_Index_nii_test_B/volume/590_5496283_200429_preop_0000.nii.gz\n",
      "save complete: /home/ldh/1_Tindex/data/T_Index_nii_test_B/mask/590_5496283_200429_preop.nii.gz\n"
     ]
    },
    {
     "name": "stderr",
     "output_type": "stream",
     "text": [
      "\r",
      " 83%|████████▎ | 15/18 [02:04<00:26,  8.85s/it]"
     ]
    },
    {
     "name": "stdout",
     "output_type": "stream",
     "text": [
      "save complete: /home/ldh/1_Tindex/data/T_Index_nii_test_B/volume/591_10207803_200514_preop_0000.nii.gz\n",
      "save complete: /home/ldh/1_Tindex/data/T_Index_nii_test_B/mask/591_10207803_200514_preop.nii.gz\n"
     ]
    },
    {
     "name": "stderr",
     "output_type": "stream",
     "text": [
      "\r",
      " 89%|████████▉ | 16/18 [02:09<00:15,  7.59s/it]"
     ]
    },
    {
     "name": "stdout",
     "output_type": "stream",
     "text": [
      "save complete: /home/ldh/1_Tindex/data/T_Index_nii_test_B/volume/592-10179272-200119-preop_0000.nii.gz\n",
      "save complete: /home/ldh/1_Tindex/data/T_Index_nii_test_B/mask/592-10179272-200119-preop.nii.gz\n"
     ]
    },
    {
     "name": "stderr",
     "output_type": "stream",
     "text": [
      "\r",
      " 94%|█████████▍| 17/18 [02:18<00:08,  8.22s/it]"
     ]
    },
    {
     "name": "stdout",
     "output_type": "stream",
     "text": [
      "save complete: /home/ldh/1_Tindex/data/T_Index_nii_test_B/volume/593_6043739_200601_preop_0000.nii.gz\n",
      "save complete: /home/ldh/1_Tindex/data/T_Index_nii_test_B/mask/593_6043739_200601_preop.nii.gz\n"
     ]
    },
    {
     "name": "stderr",
     "output_type": "stream",
     "text": [
      "100%|██████████| 18/18 [02:20<00:00,  7.81s/it]"
     ]
    },
    {
     "name": "stdout",
     "output_type": "stream",
     "text": [
      "save complete: /home/ldh/1_Tindex/data/T_Index_nii_test_B/volume/594_10171022_200114_preop_0000.nii.gz\n",
      "save complete: /home/ldh/1_Tindex/data/T_Index_nii_test_B/mask/594_10171022_200114_preop.nii.gz\n"
     ]
    },
    {
     "name": "stderr",
     "output_type": "stream",
     "text": [
      "\n"
     ]
    }
   ],
   "source": [
    "for f in tqdm(subfolders(ref_path)):\n",
    "    for file in subfiles(f):\n",
    "        if '.nrrd' in file:\n",
    "            if 'seg.nrrd' in file:\n",
    "                seg_path = file\n",
    "            else:\n",
    "                ori_path = file\n",
    "            \n",
    "    vol_save_path = vol_path+'/'+f.split('/')[-1]+'_0000.nii.gz'\n",
    "    mask_save_path = mask_path+'/'+f.split('/')[-1]+'.nii.gz'\n",
    "\n",
    "    nrrd_to_nii(ori_path, seg_path, vol_save_path, mask_save_path)\n",
    "    print('save complete:' ,vol_save_path)\n",
    "    print('save complete:' ,mask_save_path)"
   ]
  },
  {
   "cell_type": "code",
   "execution_count": 8,
   "metadata": {},
   "outputs": [],
   "source": [
    "from skimage.measure import label\n",
    "from tqdm import tqdm\n",
    "import SimpleITK as sitk\n",
    "import pandas as pd"
   ]
  },
  {
   "cell_type": "code",
   "execution_count": 62,
   "metadata": {},
   "outputs": [
    {
     "name": "stderr",
     "output_type": "stream",
     "text": [
      "100%|██████████| 125/125 [02:46<00:00,  1.33s/it]\n"
     ]
    }
   ],
   "source": [
    "import SimpleITK as sitk\n",
    "right_vol=[]\n",
    "left_vol=[]\n",
    "total_vol=[]\n",
    "mass_vol=[]\n",
    "p_id=[]\n",
    "for f in tqdm(subfolders('/home/ldh/1_Tindex/data/T_Index_nii')):\n",
    "\n",
    "    seg_path=f+'/segmentation.nii.gz'\n",
    "    seg_itk=sitk.ReadImage(seg_path)\n",
    "    seg_npy=sitk.GetArrayFromImage(seg_itk)\n",
    "    seg_npy[seg_npy!=1]=0\n",
    "\n",
    "    labels=label(seg_npy)\n",
    "    right_vol_p=[]\n",
    "    left_vol_p=[]\n",
    "\n",
    "    for d in np.unique(labels)[1:]:\n",
    "        raw=np.zeros(seg_npy.shape)\n",
    "        raw[labels==d]=1\n",
    "\n",
    "        #right\n",
    "        if np.mean(np.where(raw==1)[-1])<250:\n",
    "            right_vol_p.append(len(np.where(raw==1)[0]))\n",
    "        #left\n",
    "        else:\n",
    "            left_vol_p.append(len(np.where(raw==1)[0]))\n",
    "            \n",
    "    spc_x,spc_y,spc_z=seg_itk.GetSpacing()\n",
    "    right=np.round(np.sum(right_vol_p)*spc_x*spc_y*spc_z,3)\n",
    "    left=np.round(np.sum(left_vol_p)*spc_x*spc_y*spc_z,3)\n",
    "    \n",
    "    seg_itk=sitk.ReadImage(seg_path)\n",
    "    seg_npy=sitk.GetArrayFromImage(seg_itk)\n",
    "    mass_v=len(np.where(seg_npy==2)[0])\n",
    "    mass=np.round(mass_v*spc_x*spc_y*spc_z,3)\n",
    "    \n",
    "    right_vol.append(right)\n",
    "    left_vol.append(left)\n",
    "    total_vol.append(np.nansum(right+left))\n",
    "    mass_vol.append(mass)\n",
    "    p_id.append(int(f.split('/')[-1]))"
   ]
  },
  {
   "cell_type": "code",
   "execution_count": 63,
   "metadata": {},
   "outputs": [
    {
     "name": "stderr",
     "output_type": "stream",
     "text": [
      "100%|██████████| 95/95 [01:48<00:00,  1.15s/it]\n"
     ]
    }
   ],
   "source": [
    "for f in tqdm(subfiles('/home/ldh/1_Tindex/data/T_Index_nii_test/mask')):\n",
    "\n",
    "    seg_path=f\n",
    "    seg_itk=sitk.ReadImage(seg_path)\n",
    "    seg_npy=sitk.GetArrayFromImage(seg_itk)\n",
    "    seg_npy[seg_npy!=1]=0\n",
    "\n",
    "    labels=label(seg_npy)\n",
    "    right_vol_p=[]\n",
    "    left_vol_p=[]\n",
    "\n",
    "    for d in np.unique(labels)[1:]:\n",
    "        raw=np.zeros(seg_npy.shape)\n",
    "        raw[labels==d]=1\n",
    "\n",
    "        #right\n",
    "        if np.mean(np.where(raw==1)[-1])<250:\n",
    "            right_vol_p.append(len(np.where(raw==1)[0]))\n",
    "        #left\n",
    "        else:\n",
    "            left_vol_p.append(len(np.where(raw==1)[0]))\n",
    "            \n",
    "    spc_x,spc_y,spc_z=seg_itk.GetSpacing()\n",
    "    right=np.round(np.sum(right_vol_p)*spc_x*spc_y*spc_z,3)\n",
    "    left=np.round(np.sum(left_vol_p)*spc_x*spc_y*spc_z,3)\n",
    "    \n",
    "    seg_itk=sitk.ReadImage(seg_path)\n",
    "    seg_npy=sitk.GetArrayFromImage(seg_itk)\n",
    "    mass_v=len(np.where(seg_npy==2)[0])\n",
    "    mass=np.round(mass_v*spc_x*spc_y*spc_z,3)\n",
    "    \n",
    "    right_vol.append(right)\n",
    "    left_vol.append(left)\n",
    "    total_vol.append(np.nansum(right+left))\n",
    "    mass_vol.append(mass)\n",
    "    p_id.append(int(f.split('/')[-1].split('_')[0]))"
   ]
  },
  {
   "cell_type": "code",
   "execution_count": 23,
   "metadata": {},
   "outputs": [
    {
     "name": "stderr",
     "output_type": "stream",
     "text": [
      "100%|██████████| 18/18 [00:21<00:00,  1.17s/it]\n"
     ]
    }
   ],
   "source": [
    "right_vol=[]\n",
    "left_vol=[]\n",
    "total_vol=[]\n",
    "mass_vol=[]\n",
    "p_id=[]\n",
    "for f in tqdm(subfiles('/home/ldh/1_Tindex/data/T_Index_nii_test_B/mask', suffix='.nii.gz')):\n",
    "\n",
    "    seg_path=f\n",
    "    seg_itk=sitk.ReadImage(seg_path)\n",
    "    seg_npy=sitk.GetArrayFromImage(seg_itk)\n",
    "    seg_npy[seg_npy!=1]=0\n",
    "\n",
    "    labels=label(seg_npy)\n",
    "    right_vol_p=[]\n",
    "    left_vol_p=[]\n",
    "\n",
    "    for d in np.unique(labels)[1:]:\n",
    "        raw=np.zeros(seg_npy.shape)\n",
    "        raw[labels==d]=1\n",
    "\n",
    "        #right\n",
    "        if np.mean(np.where(raw==1)[-1])<250:\n",
    "            right_vol_p.append(len(np.where(raw==1)[0]))\n",
    "        #left\n",
    "        else:\n",
    "            left_vol_p.append(len(np.where(raw==1)[0]))\n",
    "            \n",
    "    spc_x,spc_y,spc_z=seg_itk.GetSpacing()\n",
    "    right=np.round(np.sum(right_vol_p)*spc_x*spc_y*spc_z,3)\n",
    "    left=np.round(np.sum(left_vol_p)*spc_x*spc_y*spc_z,3)\n",
    "    \n",
    "    seg_itk=sitk.ReadImage(seg_path)\n",
    "    seg_npy=sitk.GetArrayFromImage(seg_itk)\n",
    "    mass_v=len(np.where(seg_npy==2)[0])\n",
    "    mass=np.round(mass_v*spc_x*spc_y*spc_z,3)\n",
    "    \n",
    "    right_vol.append(right)\n",
    "    left_vol.append(left)\n",
    "    total_vol.append(np.nansum(right+left))\n",
    "    mass_vol.append(mass)\n",
    "    try:\n",
    "        p_id.append(int(f.split('/')[-1].split('_')[0]))\n",
    "    except:\n",
    "        p_id.append(int(f.split('/')[-1].split('-')[0]))"
   ]
  },
  {
   "cell_type": "code",
   "execution_count": 24,
   "metadata": {},
   "outputs": [],
   "source": [
    "ori_df=pd.DataFrame({'p_id':p_id, 'right_vol':right_vol, 'left_vol':left_vol, 'total_vol':total_vol, 'mass_vol': mass_vol})\n",
    "ori_df.to_csv('/home/ldh/1_Tindex/data/3_postop_volume_gt.csv', index=False)"
   ]
  },
  {
   "cell_type": "code",
   "execution_count": null,
   "metadata": {},
   "outputs": [],
   "source": []
  },
  {
   "cell_type": "code",
   "execution_count": null,
   "metadata": {},
   "outputs": [],
   "source": []
  },
  {
   "cell_type": "code",
   "execution_count": 65,
   "metadata": {},
   "outputs": [],
   "source": [
    "df=pd.read_excel('/home/ldh/2_RF/data/PNX7Y_MR_CT_labeling_20220629.xlsx')"
   ]
  },
  {
   "cell_type": "code",
   "execution_count": 66,
   "metadata": {},
   "outputs": [],
   "source": [
    "pt_list=list(df['연번(No.)'])\n",
    "ptnb_list=list(df['Pt_number'])\n",
    "right_list=[]\n",
    "left_list=[]\n",
    "total_list=[]\n",
    "mass_list=[]\n",
    "for pt in pt_list:\n",
    "    ch=ori_df[ori_df['p_id']==pt]\n",
    "    \n",
    "    try:\n",
    "        right_list.append(ch['right_vol'].item())\n",
    "    except:\n",
    "        right_list.append(np.nan)\n",
    "    try:\n",
    "        left_list.append(ch['left_vol'].item())\n",
    "    except:\n",
    "        left_list.append(np.nan)\n",
    "    try:\n",
    "        total_list.append(np.nansum([right_list[-1],left_list[-1]]))\n",
    "    except:\n",
    "        total_list.append(np.nan)\n",
    "        \n",
    "    try:\n",
    "        mass_list.append(ch['mass_vol'].item())\n",
    "    except:\n",
    "        mass_list.append(np.nan)\n",
    "        \n",
    "    if total_list[-1]==0:\n",
    "        total_list[-1]=np.nan"
   ]
  },
  {
   "cell_type": "code",
   "execution_count": 67,
   "metadata": {},
   "outputs": [],
   "source": [
    "new_df=pd.DataFrame({'p_id':pt_list, 'pt_nb':ptnb_list, 'right_vol':right_list, 'left_vol':left_list, 'total_vol':total_list, 'mass_vol':mass_list})\n",
    "\n",
    "new_df.to_csv('/home/ldh/1_Tindex/data/volume_mass.csv', index=False)"
   ]
  },
  {
   "cell_type": "code",
   "execution_count": null,
   "metadata": {},
   "outputs": [],
   "source": []
  }
 ],
 "metadata": {
  "kernelspec": {
   "display_name": "Python 3",
   "language": "python",
   "name": "python3"
  },
  "language_info": {
   "codemirror_mode": {
    "name": "ipython",
    "version": 3
   },
   "file_extension": ".py",
   "mimetype": "text/x-python",
   "name": "python",
   "nbconvert_exporter": "python",
   "pygments_lexer": "ipython3",
   "version": "3.7.7"
  }
 },
 "nbformat": 4,
 "nbformat_minor": 4
}
