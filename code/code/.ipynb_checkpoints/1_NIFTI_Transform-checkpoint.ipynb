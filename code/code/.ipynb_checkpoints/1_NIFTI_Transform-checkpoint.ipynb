{
 "cells": [
  {
   "cell_type": "code",
   "execution_count": 47,
   "metadata": {},
   "outputs": [],
   "source": [
    "import os\n",
    "import glob\n",
    "import shutil\n",
    "from batchgenerators.utilities.file_and_folder_operations import *\n",
    "from Tindex_nrrd_to_nifti import nrrd_to_nii\n",
    "import numpy as np\n",
    "from tqdm import tqdm"
   ]
  },
  {
   "cell_type": "code",
   "execution_count": 48,
   "metadata": {},
   "outputs": [],
   "source": [
    "def nr_to_ni(ref_folder):\n",
    "    for file in subfiles(ref_folder):\n",
    "        if 'seg.nrrd' in file:\n",
    "            seg_path = file\n",
    "        else:\n",
    "            ori_path = file\n",
    "            \n",
    "    new_folder_path = join(new_path, ref_folder.split('/')[-1])\n",
    "    maybe_mkdir_p(new_folder_path)\n",
    "    \n",
    "    ori_save_path = join(new_folder_path, 'imaging.nii.gz')\n",
    "    seg_save_path = join(new_folder_path, 'segmentation.nii.gz')\n",
    "    \n",
    "    nrrd_to_nii(ori_path, seg_path, ori_save_path, seg_save_path)\n",
    "    print('save complete:' ,ori_save_path)\n",
    "    print('save complete:' ,seg_save_path)"
   ]
  },
  {
   "cell_type": "code",
   "execution_count": 49,
   "metadata": {},
   "outputs": [],
   "source": [
    "ref_path = '/home/ldh/1_Tindex/data/T_Index_nrrd'\n",
    "new_path = '/home/ldh/1_Tindex/data/T_Index_nii'\n",
    "folders = subfolders(ref_path)"
   ]
  },
  {
   "cell_type": "code",
   "execution_count": 4,
   "metadata": {},
   "outputs": [
    {
     "name": "stdout",
     "output_type": "stream",
     "text": [
      "save complete: /home/ldh/1_Tindex/data/T_Index_nii/001/imaging.nii.gz\n",
      "save complete: /home/ldh/1_Tindex/data/T_Index_nii/001/segmentation.nii.gz\n",
      "save complete: /home/ldh/1_Tindex/data/T_Index_nii/023/imaging.nii.gz\n",
      "save complete: /home/ldh/1_Tindex/data/T_Index_nii/023/segmentation.nii.gz\n",
      "save complete: /home/ldh/1_Tindex/data/T_Index_nii/003/imaging.nii.gz\n",
      "save complete: /home/ldh/1_Tindex/data/T_Index_nii/003/segmentation.nii.gz\n",
      "save complete: /home/ldh/1_Tindex/data/T_Index_nii/005/imaging.nii.gz\n",
      "save complete: /home/ldh/1_Tindex/data/T_Index_nii/005/segmentation.nii.gz\n",
      "save complete: /home/ldh/1_Tindex/data/T_Index_nii/026/imaging.nii.gz\n",
      "save complete: /home/ldh/1_Tindex/data/T_Index_nii/026/segmentation.nii.gz\n",
      "save complete: /home/ldh/1_Tindex/data/T_Index_nii/061/imaging.nii.gz\n",
      "save complete: /home/ldh/1_Tindex/data/T_Index_nii/061/segmentation.nii.gz\n",
      "save complete: /home/ldh/1_Tindex/data/T_Index_nii/041/imaging.nii.gz\n",
      "save complete: /home/ldh/1_Tindex/data/T_Index_nii/041/segmentation.nii.gz\n",
      "save complete: /home/ldh/1_Tindex/data/T_Index_nii/063/imaging.nii.gz\n",
      "save complete: /home/ldh/1_Tindex/data/T_Index_nii/063/segmentation.nii.gz\n",
      "save complete: /home/ldh/1_Tindex/data/T_Index_nii/008/imaging.nii.gz\n",
      "save complete: /home/ldh/1_Tindex/data/T_Index_nii/008/segmentation.nii.gz\n",
      "save complete: /home/ldh/1_Tindex/data/T_Index_nii/029/imaging.nii.gz\n",
      "save complete: /home/ldh/1_Tindex/data/T_Index_nii/029/segmentation.nii.gz\n",
      "save complete: /home/ldh/1_Tindex/data/T_Index_nii/032/imaging.nii.gz\n",
      "save complete: /home/ldh/1_Tindex/data/T_Index_nii/032/segmentation.nii.gz\n",
      "save complete: /home/ldh/1_Tindex/data/T_Index_nii/010/imaging.nii.gz\n",
      "save complete: /home/ldh/1_Tindex/data/T_Index_nii/010/segmentation.nii.gz\n",
      "save complete: /home/ldh/1_Tindex/data/T_Index_nii/033/imaging.nii.gz\n",
      "save complete: /home/ldh/1_Tindex/data/T_Index_nii/033/segmentation.nii.gz\n",
      "save complete: /home/ldh/1_Tindex/data/T_Index_nii/016/imaging.nii.gz\n",
      "save complete: /home/ldh/1_Tindex/data/T_Index_nii/016/segmentation.nii.gz\n",
      "save complete: /home/ldh/1_Tindex/data/T_Index_nii/064/imaging.nii.gz\n",
      "save complete: /home/ldh/1_Tindex/data/T_Index_nii/064/segmentation.nii.gz\n",
      "save complete: /home/ldh/1_Tindex/data/T_Index_nii/035/imaging.nii.gz\n",
      "save complete: /home/ldh/1_Tindex/data/T_Index_nii/035/segmentation.nii.gz\n",
      "save complete: /home/ldh/1_Tindex/data/T_Index_nii/018/imaging.nii.gz\n",
      "save complete: /home/ldh/1_Tindex/data/T_Index_nii/018/segmentation.nii.gz\n",
      "save complete: /home/ldh/1_Tindex/data/T_Index_nii/044/imaging.nii.gz\n",
      "save complete: /home/ldh/1_Tindex/data/T_Index_nii/044/segmentation.nii.gz\n",
      "save complete: /home/ldh/1_Tindex/data/T_Index_nii/037/imaging.nii.gz\n",
      "save complete: /home/ldh/1_Tindex/data/T_Index_nii/037/segmentation.nii.gz\n",
      "save complete: /home/ldh/1_Tindex/data/T_Index_nii/048/imaging.nii.gz\n",
      "save complete: /home/ldh/1_Tindex/data/T_Index_nii/048/segmentation.nii.gz\n",
      "save complete: /home/ldh/1_Tindex/data/T_Index_nii/021/imaging.nii.gz\n",
      "save complete: /home/ldh/1_Tindex/data/T_Index_nii/021/segmentation.nii.gz\n",
      "save complete: /home/ldh/1_Tindex/data/T_Index_nii/067/imaging.nii.gz\n",
      "save complete: /home/ldh/1_Tindex/data/T_Index_nii/067/segmentation.nii.gz\n",
      "save complete: /home/ldh/1_Tindex/data/T_Index_nii/074/imaging.nii.gz\n",
      "save complete: /home/ldh/1_Tindex/data/T_Index_nii/074/segmentation.nii.gz\n",
      "save complete: /home/ldh/1_Tindex/data/T_Index_nii/069/imaging.nii.gz\n",
      "save complete: /home/ldh/1_Tindex/data/T_Index_nii/069/segmentation.nii.gz\n",
      "save complete: /home/ldh/1_Tindex/data/T_Index_nii/053/imaging.nii.gz\n",
      "save complete: /home/ldh/1_Tindex/data/T_Index_nii/053/segmentation.nii.gz\n",
      "save complete: /home/ldh/1_Tindex/data/T_Index_nii/040/imaging.nii.gz\n",
      "save complete: /home/ldh/1_Tindex/data/T_Index_nii/040/segmentation.nii.gz\n",
      "save complete: /home/ldh/1_Tindex/data/T_Index_nii/055/imaging.nii.gz\n",
      "save complete: /home/ldh/1_Tindex/data/T_Index_nii/055/segmentation.nii.gz\n",
      "save complete: save complete:/home/ldh/1_Tindex/data/T_Index_nii/086/imaging.nii.gz \n",
      "/home/ldh/1_Tindex/data/T_Index_nii/070/imaging.nii.gzsave complete:\n",
      " save complete:/home/ldh/1_Tindex/data/T_Index_nii/086/segmentation.nii.gz \n",
      "/home/ldh/1_Tindex/data/T_Index_nii/070/segmentation.nii.gz\n",
      "save complete: /home/ldh/1_Tindex/data/T_Index_nii/072/imaging.nii.gz\n",
      "save complete: /home/ldh/1_Tindex/data/T_Index_nii/072/segmentation.nii.gz\n",
      "save complete: /home/ldh/1_Tindex/data/T_Index_nii/075/imaging.nii.gz\n",
      "save complete: /home/ldh/1_Tindex/data/T_Index_nii/075/segmentation.nii.gz\n",
      "save complete: /home/ldh/1_Tindex/data/T_Index_nii/057/imaging.nii.gz\n",
      "save complete: /home/ldh/1_Tindex/data/T_Index_nii/057/segmentation.nii.gz\n",
      "save complete: /home/ldh/1_Tindex/data/T_Index_nii/087/imaging.nii.gz\n",
      "save complete: /home/ldh/1_Tindex/data/T_Index_nii/087/segmentation.nii.gz\n",
      "save complete: /home/ldh/1_Tindex/data/T_Index_nii/073/imaging.nii.gz\n",
      "save complete: /home/ldh/1_Tindex/data/T_Index_nii/073/segmentation.nii.gz\n",
      "save complete: /home/ldh/1_Tindex/data/T_Index_nii/102/imaging.nii.gz\n",
      "save complete: /home/ldh/1_Tindex/data/T_Index_nii/102/segmentation.nii.gz\n",
      "save complete: /home/ldh/1_Tindex/data/T_Index_nii/088/imaging.nii.gz\n",
      "save complete: /home/ldh/1_Tindex/data/T_Index_nii/088/segmentation.nii.gz\n",
      "save complete: /home/ldh/1_Tindex/data/T_Index_nii/058/imaging.nii.gz\n",
      "save complete: /home/ldh/1_Tindex/data/T_Index_nii/058/segmentation.nii.gz\n",
      "save complete: /home/ldh/1_Tindex/data/T_Index_nii/076/imaging.nii.gz\n",
      "save complete: /home/ldh/1_Tindex/data/T_Index_nii/076/segmentation.nii.gz\n",
      "save complete: /home/ldh/1_Tindex/data/T_Index_nii/090/imaging.nii.gz\n",
      "save complete: /home/ldh/1_Tindex/data/T_Index_nii/090/segmentation.nii.gz\n",
      "save complete: /home/ldh/1_Tindex/data/T_Index_nii/103/imaging.nii.gz\n",
      "save complete: /home/ldh/1_Tindex/data/T_Index_nii/103/segmentation.nii.gz\n",
      "save complete: /home/ldh/1_Tindex/data/T_Index_nii/077/imaging.nii.gz\n",
      "save complete: /home/ldh/1_Tindex/data/T_Index_nii/077/segmentation.nii.gz\n",
      "save complete: /home/ldh/1_Tindex/data/T_Index_nii/060/imaging.nii.gz\n",
      "save complete: /home/ldh/1_Tindex/data/T_Index_nii/060/segmentation.nii.gz\n",
      "save complete: /home/ldh/1_Tindex/data/T_Index_nii/104/imaging.nii.gz\n",
      "save complete: /home/ldh/1_Tindex/data/T_Index_nii/104/segmentation.nii.gz\n",
      "save complete: /home/ldh/1_Tindex/data/T_Index_nii/080/imaging.nii.gz\n",
      "save complete: /home/ldh/1_Tindex/data/T_Index_nii/080/segmentation.nii.gz\n",
      "save complete: /home/ldh/1_Tindex/data/T_Index_nii/113/imaging.nii.gz\n",
      "save complete: /home/ldh/1_Tindex/data/T_Index_nii/113/segmentation.nii.gz\n",
      "save complete: /home/ldh/1_Tindex/data/T_Index_nii/092/imaging.nii.gz\n",
      "save complete: /home/ldh/1_Tindex/data/T_Index_nii/092/segmentation.nii.gz\n",
      "save complete: /home/ldh/1_Tindex/data/T_Index_nii/081/imaging.nii.gz\n",
      "save complete: /home/ldh/1_Tindex/data/T_Index_nii/081/segmentation.nii.gz\n",
      "save complete: /home/ldh/1_Tindex/data/T_Index_nii/105/imaging.nii.gz\n",
      "save complete: /home/ldh/1_Tindex/data/T_Index_nii/105/segmentation.nii.gz\n",
      "save complete: /home/ldh/1_Tindex/data/T_Index_nii/095/imaging.nii.gz\n",
      "save complete: /home/ldh/1_Tindex/data/T_Index_nii/095/segmentation.nii.gz\n",
      "save complete: /home/ldh/1_Tindex/data/T_Index_nii/116/imaging.nii.gz\n",
      "save complete: /home/ldh/1_Tindex/data/T_Index_nii/116/segmentation.nii.gz\n",
      "save complete:save complete:  /home/ldh/1_Tindex/data/T_Index_nii/082/imaging.nii.gz/home/ldh/1_Tindex/data/T_Index_nii/098/imaging.nii.gz\n",
      "\n",
      "save complete:save complete: /home/ldh/1_Tindex/data/T_Index_nii/098/segmentation.nii.gz \n",
      "/home/ldh/1_Tindex/data/T_Index_nii/082/segmentation.nii.gz\n",
      "save complete: /home/ldh/1_Tindex/data/T_Index_nii/107/imaging.nii.gz\n",
      "save complete: /home/ldh/1_Tindex/data/T_Index_nii/107/segmentation.nii.gz\n",
      "save complete: /home/ldh/1_Tindex/data/T_Index_nii/100/imaging.nii.gz\n",
      "save complete: /home/ldh/1_Tindex/data/T_Index_nii/100/segmentation.nii.gz\n",
      "save complete: /home/ldh/1_Tindex/data/T_Index_nii/108/imaging.nii.gz\n",
      "save complete: /home/ldh/1_Tindex/data/T_Index_nii/108/segmentation.nii.gz\n",
      "save complete: /home/ldh/1_Tindex/data/T_Index_nii/119/imaging.nii.gz\n",
      "save complete: /home/ldh/1_Tindex/data/T_Index_nii/119/segmentation.nii.gz\n",
      "save complete: /home/ldh/1_Tindex/data/T_Index_nii/083/imaging.nii.gz\n",
      "save complete: /home/ldh/1_Tindex/data/T_Index_nii/083/segmentation.nii.gz\n",
      "save complete: /home/ldh/1_Tindex/data/T_Index_nii/150/imaging.nii.gz\n",
      "save complete: /home/ldh/1_Tindex/data/T_Index_nii/150/segmentation.nii.gz\n",
      "save complete: /home/ldh/1_Tindex/data/T_Index_nii/109/imaging.nii.gz\n",
      "save complete: /home/ldh/1_Tindex/data/T_Index_nii/109/segmentation.nii.gz\n",
      "save complete: /home/ldh/1_Tindex/data/T_Index_nii/120/imaging.nii.gz\n",
      "save complete: /home/ldh/1_Tindex/data/T_Index_nii/120/segmentation.nii.gz\n",
      "save complete: /home/ldh/1_Tindex/data/T_Index_nii/131/imaging.nii.gz\n",
      "save complete: /home/ldh/1_Tindex/data/T_Index_nii/131/segmentation.nii.gz\n",
      "save complete: /home/ldh/1_Tindex/data/T_Index_nii/152/imaging.nii.gz\n",
      "save complete: /home/ldh/1_Tindex/data/T_Index_nii/152/segmentation.nii.gz\n",
      "save complete: /home/ldh/1_Tindex/data/T_Index_nii/112/imaging.nii.gz\n",
      "save complete: /home/ldh/1_Tindex/data/T_Index_nii/112/segmentation.nii.gz\n",
      "save complete: /home/ldh/1_Tindex/data/T_Index_nii/126/imaging.nii.gz\n",
      "save complete: /home/ldh/1_Tindex/data/T_Index_nii/126/segmentation.nii.gz\n",
      "save complete: /home/ldh/1_Tindex/data/T_Index_nii/171/imaging.nii.gz\n",
      "save complete: /home/ldh/1_Tindex/data/T_Index_nii/171/segmentation.nii.gz\n",
      "save complete: /home/ldh/1_Tindex/data/T_Index_nii/135/imaging.nii.gz\n",
      "save complete: /home/ldh/1_Tindex/data/T_Index_nii/135/segmentation.nii.gz\n",
      "save complete: /home/ldh/1_Tindex/data/T_Index_nii/172/imaging.nii.gz\n",
      "save complete: /home/ldh/1_Tindex/data/T_Index_nii/172/segmentation.nii.gz\n",
      "save complete: /home/ldh/1_Tindex/data/T_Index_nii/153/imaging.nii.gz\n",
      "save complete: /home/ldh/1_Tindex/data/T_Index_nii/153/segmentation.nii.gz\n",
      "save complete: /home/ldh/1_Tindex/data/T_Index_nii/175/imaging.nii.gz\n",
      "save complete: /home/ldh/1_Tindex/data/T_Index_nii/175/segmentation.nii.gz\n",
      "save complete: /home/ldh/1_Tindex/data/T_Index_nii/127/imaging.nii.gz\n",
      "save complete: /home/ldh/1_Tindex/data/T_Index_nii/127/segmentation.nii.gz\n",
      "save complete: /home/ldh/1_Tindex/data/T_Index_nii/158/imaging.nii.gz\n",
      "save complete: /home/ldh/1_Tindex/data/T_Index_nii/158/segmentation.nii.gz\n",
      "save complete: /home/ldh/1_Tindex/data/T_Index_nii/137/imaging.nii.gz\n",
      "save complete: /home/ldh/1_Tindex/data/T_Index_nii/137/segmentation.nii.gz\n",
      "save complete: /home/ldh/1_Tindex/data/T_Index_nii/160/imaging.nii.gz\n",
      "save complete: /home/ldh/1_Tindex/data/T_Index_nii/160/segmentation.nii.gz\n",
      "save complete: /home/ldh/1_Tindex/data/T_Index_nii/128/imaging.nii.gz\n",
      "save complete: /home/ldh/1_Tindex/data/T_Index_nii/128/segmentation.nii.gz\n",
      "save complete: /home/ldh/1_Tindex/data/T_Index_nii/162/imaging.nii.gz\n",
      "save complete: /home/ldh/1_Tindex/data/T_Index_nii/162/segmentation.nii.gz\n",
      "save complete: /home/ldh/1_Tindex/data/T_Index_nii/140/imaging.nii.gz\n",
      "save complete: /home/ldh/1_Tindex/data/T_Index_nii/140/segmentation.nii.gz\n",
      "save complete: /home/ldh/1_Tindex/data/T_Index_nii/179/imaging.nii.gz\n",
      "save complete: /home/ldh/1_Tindex/data/T_Index_nii/179/segmentation.nii.gz\n",
      "save complete: /home/ldh/1_Tindex/data/T_Index_nii/129/imaging.nii.gz\n",
      "save complete: /home/ldh/1_Tindex/data/T_Index_nii/129/segmentation.nii.gz\n",
      "save complete: /home/ldh/1_Tindex/data/T_Index_nii/164/imaging.nii.gz\n",
      "save complete: /home/ldh/1_Tindex/data/T_Index_nii/164/segmentation.nii.gz\n",
      "save complete: /home/ldh/1_Tindex/data/T_Index_nii/142/imaging.nii.gz\n",
      "save complete: /home/ldh/1_Tindex/data/T_Index_nii/142/segmentation.nii.gz\n",
      "save complete: /home/ldh/1_Tindex/data/T_Index_nii/196/imaging.nii.gz\n",
      "save complete: /home/ldh/1_Tindex/data/T_Index_nii/196/segmentation.nii.gz\n",
      "save complete: /home/ldh/1_Tindex/data/T_Index_nii/143/imaging.nii.gz\n",
      "save complete: /home/ldh/1_Tindex/data/T_Index_nii/143/segmentation.nii.gz\n",
      "save complete: /home/ldh/1_Tindex/data/T_Index_nii/167/imaging.nii.gz\n",
      "save complete: /home/ldh/1_Tindex/data/T_Index_nii/167/segmentation.nii.gz\n",
      "save complete: /home/ldh/1_Tindex/data/T_Index_nii/144/imaging.nii.gz\n",
      "save complete: /home/ldh/1_Tindex/data/T_Index_nii/144/segmentation.nii.gz\n",
      "save complete: /home/ldh/1_Tindex/data/T_Index_nii/212/imaging.nii.gz\n",
      "save complete: /home/ldh/1_Tindex/data/T_Index_nii/212/segmentation.nii.gz\n",
      "save complete: /home/ldh/1_Tindex/data/T_Index_nii/197/imaging.nii.gz\n",
      "save complete: /home/ldh/1_Tindex/data/T_Index_nii/197/segmentation.nii.gz\n",
      "save complete: /home/ldh/1_Tindex/data/T_Index_nii/182/imaging.nii.gz\n",
      "save complete: /home/ldh/1_Tindex/data/T_Index_nii/182/segmentation.nii.gz\n",
      "save complete: /home/ldh/1_Tindex/data/T_Index_nii/146/imaging.nii.gz\n",
      "save complete: /home/ldh/1_Tindex/data/T_Index_nii/146/segmentation.nii.gz\n",
      "save complete: /home/ldh/1_Tindex/data/T_Index_nii/216/imaging.nii.gz\n",
      "save complete: /home/ldh/1_Tindex/data/T_Index_nii/216/segmentation.nii.gz\n",
      "save complete: /home/ldh/1_Tindex/data/T_Index_nii/198/imaging.nii.gz\n",
      "save complete: /home/ldh/1_Tindex/data/T_Index_nii/198/segmentation.nii.gz\n",
      "save complete: /home/ldh/1_Tindex/data/T_Index_nii/237/imaging.nii.gz\n",
      "save complete: /home/ldh/1_Tindex/data/T_Index_nii/237/segmentation.nii.gz\n",
      "save complete: /home/ldh/1_Tindex/data/T_Index_nii/199/imaging.nii.gz\n",
      "save complete: /home/ldh/1_Tindex/data/T_Index_nii/199/segmentation.nii.gz\n",
      "save complete: /home/ldh/1_Tindex/data/T_Index_nii/183/imaging.nii.gz\n",
      "save complete: /home/ldh/1_Tindex/data/T_Index_nii/183/segmentation.nii.gz\n",
      "save complete: /home/ldh/1_Tindex/data/T_Index_nii/241/imaging.nii.gz\n",
      "save complete: /home/ldh/1_Tindex/data/T_Index_nii/241/segmentation.nii.gz\n",
      "save complete: /home/ldh/1_Tindex/data/T_Index_nii/217/imaging.nii.gz\n",
      "save complete: /home/ldh/1_Tindex/data/T_Index_nii/217/segmentation.nii.gz\n",
      "save complete: /home/ldh/1_Tindex/data/T_Index_nii/200/imaging.nii.gz\n",
      "save complete: /home/ldh/1_Tindex/data/T_Index_nii/200/segmentation.nii.gz\n",
      "save complete: /home/ldh/1_Tindex/data/T_Index_nii/186/imaging.nii.gz\n",
      "save complete: /home/ldh/1_Tindex/data/T_Index_nii/186/segmentation.nii.gz\n",
      "save complete: /home/ldh/1_Tindex/data/T_Index_nii/242/imaging.nii.gz\n",
      "save complete: /home/ldh/1_Tindex/data/T_Index_nii/242/segmentation.nii.gz\n",
      "save complete: /home/ldh/1_Tindex/data/T_Index_nii/218/imaging.nii.gz\n",
      "save complete: /home/ldh/1_Tindex/data/T_Index_nii/218/segmentation.nii.gz\n",
      "save complete: /home/ldh/1_Tindex/data/T_Index_nii/203/imaging.nii.gz\n",
      "save complete: /home/ldh/1_Tindex/data/T_Index_nii/203/segmentation.nii.gz\n",
      "save complete: /home/ldh/1_Tindex/data/T_Index_nii/220/imaging.nii.gz\n",
      "save complete: /home/ldh/1_Tindex/data/T_Index_nii/220/segmentation.nii.gz\n",
      "save complete: /home/ldh/1_Tindex/data/T_Index_nii/205/imaging.nii.gz\n",
      "save complete: /home/ldh/1_Tindex/data/T_Index_nii/205/segmentation.nii.gz\n",
      "save complete: /home/ldh/1_Tindex/data/T_Index_nii/195/imaging.nii.gz\n",
      "save complete: /home/ldh/1_Tindex/data/T_Index_nii/195/segmentation.nii.gz\n",
      "save complete: /home/ldh/1_Tindex/data/T_Index_nii/225/imaging.nii.gz\n",
      "save complete: /home/ldh/1_Tindex/data/T_Index_nii/225/segmentation.nii.gz\n",
      "save complete: /home/ldh/1_Tindex/data/T_Index_nii/246/imaging.nii.gz\n",
      "save complete: /home/ldh/1_Tindex/data/T_Index_nii/246/segmentation.nii.gz\n",
      "save complete: /home/ldh/1_Tindex/data/T_Index_nii/230/imaging.nii.gz\n",
      "save complete: /home/ldh/1_Tindex/data/T_Index_nii/230/segmentation.nii.gz\n",
      "save complete: /home/ldh/1_Tindex/data/T_Index_nii/254/imaging.nii.gz\n",
      "save complete: /home/ldh/1_Tindex/data/T_Index_nii/254/segmentation.nii.gz\n",
      "save complete: /home/ldh/1_Tindex/data/T_Index_nii/258/imaging.nii.gz\n",
      "save complete: /home/ldh/1_Tindex/data/T_Index_nii/258/segmentation.nii.gz\n",
      "save complete: /home/ldh/1_Tindex/data/T_Index_nii/208/imaging.nii.gz\n",
      "save complete: /home/ldh/1_Tindex/data/T_Index_nii/208/segmentation.nii.gz\n",
      "save complete: /home/ldh/1_Tindex/data/T_Index_nii/269/imaging.nii.gz\n",
      "save complete: /home/ldh/1_Tindex/data/T_Index_nii/269/segmentation.nii.gz\n",
      "save complete: /home/ldh/1_Tindex/data/T_Index_nii/232/imaging.nii.gz\n",
      "save complete: /home/ldh/1_Tindex/data/T_Index_nii/232/segmentation.nii.gz\n",
      "save complete: /home/ldh/1_Tindex/data/T_Index_nii/274/imaging.nii.gz\n",
      "save complete: /home/ldh/1_Tindex/data/T_Index_nii/274/segmentation.nii.gz\n",
      "save complete: /home/ldh/1_Tindex/data/T_Index_nii/248/imaging.nii.gz\n"
     ]
    },
    {
     "name": "stdout",
     "output_type": "stream",
     "text": [
      "save complete: /home/ldh/1_Tindex/data/T_Index_nii/248/segmentation.nii.gz\n",
      "save complete: /home/ldh/1_Tindex/data/T_Index_nii/295/imaging.nii.gz\n",
      "save complete: /home/ldh/1_Tindex/data/T_Index_nii/295/segmentation.nii.gz\n",
      "save complete: /home/ldh/1_Tindex/data/T_Index_nii/276/imaging.nii.gz\n",
      "save complete: /home/ldh/1_Tindex/data/T_Index_nii/276/segmentation.nii.gz\n",
      "save complete: /home/ldh/1_Tindex/data/T_Index_nii/299/imaging.nii.gz\n",
      "save complete: /home/ldh/1_Tindex/data/T_Index_nii/299/segmentation.nii.gz\n",
      "save complete: /home/ldh/1_Tindex/data/T_Index_nii/250/imaging.nii.gz\n",
      "save complete: /home/ldh/1_Tindex/data/T_Index_nii/250/segmentation.nii.gz\n",
      "save complete: /home/ldh/1_Tindex/data/T_Index_nii/301/imaging.nii.gz\n",
      "save complete: /home/ldh/1_Tindex/data/T_Index_nii/301/segmentation.nii.gz\n",
      "save complete: /home/ldh/1_Tindex/data/T_Index_nii/251/imaging.nii.gz\n",
      "save complete: /home/ldh/1_Tindex/data/T_Index_nii/251/segmentation.nii.gz\n",
      "save complete: /home/ldh/1_Tindex/data/T_Index_nii/253/imaging.nii.gz\n",
      "save complete: /home/ldh/1_Tindex/data/T_Index_nii/253/segmentation.nii.gz\n",
      "save complete: /home/ldh/1_Tindex/data/T_Index_nii/305/imaging.nii.gz\n",
      "save complete: /home/ldh/1_Tindex/data/T_Index_nii/305/segmentation.nii.gz\n",
      "save complete: /home/ldh/1_Tindex/data/T_Index_nii/281/imaging.nii.gz\n",
      "save complete: /home/ldh/1_Tindex/data/T_Index_nii/281/segmentation.nii.gz\n",
      "save complete: /home/ldh/1_Tindex/data/T_Index_nii/308/imaging.nii.gz\n",
      "save complete: /home/ldh/1_Tindex/data/T_Index_nii/308/segmentation.nii.gz\n",
      "save complete: /home/ldh/1_Tindex/data/T_Index_nii/282/imaging.nii.gz\n",
      "save complete: /home/ldh/1_Tindex/data/T_Index_nii/282/segmentation.nii.gz\n",
      "save complete: /home/ldh/1_Tindex/data/T_Index_nii/293/imaging.nii.gz\n",
      "save complete: /home/ldh/1_Tindex/data/T_Index_nii/293/segmentation.nii.gz\n"
     ]
    }
   ],
   "source": [
    "from multiprocessing import Pool\n",
    "p = Pool(4)\n",
    "p.map(nr_to_ni, folders)\n",
    "p.close()\n",
    "p.join()"
   ]
  },
  {
   "cell_type": "code",
   "execution_count": 4,
   "metadata": {
    "collapsed": true
   },
   "outputs": [
    {
     "name": "stdout",
     "output_type": "stream",
     "text": [
      "/data/T_Index/T_Index_nii/001\n",
      "/data/T_Index/T_Index_nii/003\n",
      "/data/T_Index/T_Index_nii/005\n",
      "/data/T_Index/T_Index_nii/008\n",
      "/data/T_Index/T_Index_nii/010\n",
      "/data/T_Index/T_Index_nii/016\n",
      "/data/T_Index/T_Index_nii/018\n",
      "/data/T_Index/T_Index_nii/021\n",
      "/data/T_Index/T_Index_nii/023\n",
      "/data/T_Index/T_Index_nii/026\n",
      "/data/T_Index/T_Index_nii/029\n",
      "/data/T_Index/T_Index_nii/032\n",
      "/data/T_Index/T_Index_nii/033\n",
      "/data/T_Index/T_Index_nii/035\n",
      "/data/T_Index/T_Index_nii/037\n",
      "/data/T_Index/T_Index_nii/040\n",
      "/data/T_Index/T_Index_nii/041\n",
      "/data/T_Index/T_Index_nii/044\n",
      "/data/T_Index/T_Index_nii/048\n",
      "/data/T_Index/T_Index_nii/053\n",
      "/data/T_Index/T_Index_nii/055\n",
      "/data/T_Index/T_Index_nii/057\n",
      "/data/T_Index/T_Index_nii/058\n",
      "/data/T_Index/T_Index_nii/060\n",
      "/data/T_Index/T_Index_nii/061\n",
      "/data/T_Index/T_Index_nii/063\n",
      "/data/T_Index/T_Index_nii/064\n",
      "/data/T_Index/T_Index_nii/067\n",
      "/data/T_Index/T_Index_nii/069\n",
      "/data/T_Index/T_Index_nii/070\n",
      "/data/T_Index/T_Index_nii/072\n",
      "/data/T_Index/T_Index_nii/073\n",
      "/data/T_Index/T_Index_nii/074\n",
      "/data/T_Index/T_Index_nii/075\n",
      "/data/T_Index/T_Index_nii/076\n",
      "/data/T_Index/T_Index_nii/077\n",
      "/data/T_Index/T_Index_nii/080\n",
      "/data/T_Index/T_Index_nii/081\n",
      "/data/T_Index/T_Index_nii/082\n",
      "/data/T_Index/T_Index_nii/083\n",
      "/data/T_Index/T_Index_nii/086\n",
      "/data/T_Index/T_Index_nii/087\n",
      "/data/T_Index/T_Index_nii/088\n",
      "/data/T_Index/T_Index_nii/090\n",
      "/data/T_Index/T_Index_nii/092\n",
      "/data/T_Index/T_Index_nii/095\n",
      "/data/T_Index/T_Index_nii/098\n",
      "/data/T_Index/T_Index_nii/100\n",
      "/data/T_Index/T_Index_nii/102\n",
      "/data/T_Index/T_Index_nii/103\n",
      "/data/T_Index/T_Index_nii/104\n",
      "/data/T_Index/T_Index_nii/105\n",
      "/data/T_Index/T_Index_nii/107\n",
      "/data/T_Index/T_Index_nii/108\n",
      "/data/T_Index/T_Index_nii/109\n",
      "/data/T_Index/T_Index_nii/112\n",
      "/data/T_Index/T_Index_nii/113\n",
      "/data/T_Index/T_Index_nii/116\n",
      "/data/T_Index/T_Index_nii/119\n",
      "/data/T_Index/T_Index_nii/120\n",
      "/data/T_Index/T_Index_nii/126\n",
      "/data/T_Index/T_Index_nii/127\n",
      "/data/T_Index/T_Index_nii/128\n",
      "/data/T_Index/T_Index_nii/129\n",
      "/data/T_Index/T_Index_nii/131\n",
      "/data/T_Index/T_Index_nii/135\n",
      "/data/T_Index/T_Index_nii/137\n",
      "/data/T_Index/T_Index_nii/140\n",
      "/data/T_Index/T_Index_nii/142\n",
      "/data/T_Index/T_Index_nii/143\n",
      "/data/T_Index/T_Index_nii/144\n",
      "/data/T_Index/T_Index_nii/146\n",
      "/data/T_Index/T_Index_nii/150\n",
      "/data/T_Index/T_Index_nii/152\n",
      "/data/T_Index/T_Index_nii/153\n",
      "/data/T_Index/T_Index_nii/158\n",
      "/data/T_Index/T_Index_nii/160\n",
      "/data/T_Index/T_Index_nii/162\n",
      "/data/T_Index/T_Index_nii/164\n",
      "/data/T_Index/T_Index_nii/167\n",
      "/data/T_Index/T_Index_nii/171\n",
      "/data/T_Index/T_Index_nii/172\n",
      "/data/T_Index/T_Index_nii/175\n"
     ]
    }
   ],
   "source": [
    "# orientation check\n",
    "import SimpleITK as sitk\n",
    "for fold in subfolders(new_path):\n",
    "    print(fold)\n",
    "    \n",
    "    ori_path = join(fold, 'imaging.nii.gz')\n",
    "    img = sitk.ReadImage(ori_path)\n",
    "    ori = sitk.GetArrayFromImage(img)\n",
    "    \n",
    "    seg_path = join(fold, 'segmentation.nii.gz')\n",
    "    seg_img = sitk.ReadImage(seg_path)\n",
    "    seg = sitk.GetArrayFromImage(seg_img)\n",
    "    \n",
    "    if img.GetDirection()[0] != 1.0 :\n",
    "        ori = np.flip(ori,axis=2)\n",
    "        seg = np.flip(seg,axis=2)\n",
    "    if img.GetDirection()[4] != 1.0 :\n",
    "        ori = np.flip(ori,axis=1)\n",
    "        seg = np.flip(seg,axis=1)\n",
    "    if img.GetDirection()[-1] != 1.0 :\n",
    "        ori = np.flip(ori,axis=0)\n",
    "        seg = np.flip(seg,axis=0)\n",
    "    \n",
    "    if img.GetDirection() != (1.0, 0.0, 0.0, 0.0, 1.0, 0.0, 0.0, 0.0, 1.0):\n",
    "        new_img = sitk.GetImageFromArray(ori)\n",
    "        new_img.SetSpacing(img.GetSpacing())\n",
    "        new_img.SetOrigin(img.GetOrigin())\n",
    "        new_img.SetDirection((1.0, 0.0, 0.0, 0.0, 1.0, 0.0, 0.0, 0.0, 1.0))\n",
    "        sitk.WriteImage(new_img, ori_path)    \n",
    "        print(ori_path)\n",
    "        \n",
    "        new_seg_img = sitk.GetImageFromArray(seg)\n",
    "        new_seg_img.SetSpacing(img.GetSpacing())\n",
    "        new_seg_img.SetOrigin(img.GetOrigin())\n",
    "        new_seg_img.SetDirection((1.0, 0.0, 0.0, 0.0, 1.0, 0.0, 0.0, 0.0, 1.0))\n",
    "        sitk.WriteImage(new_seg_img, seg_path)    \n",
    "        print(seg_path)"
   ]
  },
  {
   "cell_type": "code",
   "execution_count": null,
   "metadata": {},
   "outputs": [],
   "source": [
    "# multi volume check"
   ]
  },
  {
   "cell_type": "code",
   "execution_count": 23,
   "metadata": {},
   "outputs": [],
   "source": [
    "import SimpleITK as sitk\n",
    "import nrrd\n",
    "a='/home/ldh/1_Tindex/data/T_Index_nrrd_test/444_8758096_181030_preop_dual/5MM - as a 3 frames MultiVolume by AcquisitionTime.nhdr'\n",
    "vol,header=nrrd.read(a)"
   ]
  },
  {
   "cell_type": "code",
   "execution_count": 24,
   "metadata": {},
   "outputs": [],
   "source": [
    "vol_new = vol[0]"
   ]
  },
  {
   "cell_type": "code",
   "execution_count": 25,
   "metadata": {},
   "outputs": [],
   "source": [
    "header['dimension']=3\n",
    "header['sizes']=header['sizes'][1:]\n",
    "header['space directions']=header['space directions'][1:]\n",
    "header['kinds']=header['kinds'][1:]"
   ]
  },
  {
   "cell_type": "code",
   "execution_count": 26,
   "metadata": {},
   "outputs": [],
   "source": [
    "b='/home/ldh/1_Tindex/data/T_Index_nrrd_test/444_8758096_181030_preop_dual/CMP.nrrd'\n",
    "nrrd.write(b, vol_new, header)"
   ]
  },
  {
   "cell_type": "code",
   "execution_count": 7,
   "metadata": {},
   "outputs": [
    {
     "name": "stdout",
     "output_type": "stream",
     "text": [
      "/home/ldh/1_Tindex/data/T_Index_nrrd_test/444_8758096_181030_preop_dual/5MM - as a 3 frames MultiVolume by AcquisitionTime.nhdr\n",
      "/home/ldh/1_Tindex/data/T_Index_nrrd_test/444_8758096_181030_preop_dual/5MM - as a 3 frames MultiVolume by AcquisitionTime.raw.gz\n"
     ]
    }
   ],
   "source": [
    "base_path='/home/ldh/1_Tindex/data/T_Index_nrrd_test'\n",
    "for f in subfolders(base_path):\n",
    "    for f2 in subfiles(f):\n",
    "        if 'MultiVolume' in f2:\n",
    "            print(f2)\n",
    "            multi_file=f2"
   ]
  },
  {
   "cell_type": "code",
   "execution_count": null,
   "metadata": {},
   "outputs": [],
   "source": []
  },
  {
   "cell_type": "code",
   "execution_count": null,
   "metadata": {},
   "outputs": [],
   "source": []
  },
  {
   "cell_type": "code",
   "execution_count": 50,
   "metadata": {},
   "outputs": [],
   "source": [
    "ref_path = '/home/ldh/1_Tindex/data/T_Index_nrrd_test'\n",
    "vol_path = '/home/ldh/1_Tindex/data/T_Index_nii_test/volume'\n",
    "mask_path = '/home/ldh/1_Tindex/data/T_Index_nii_test/mask'"
   ]
  },
  {
   "cell_type": "code",
   "execution_count": 3,
   "metadata": {},
   "outputs": [
    {
     "name": "stderr",
     "output_type": "stream",
     "text": [
      "  1%|          | 1/95 [00:01<02:45,  1.77s/it]"
     ]
    },
    {
     "name": "stdout",
     "output_type": "stream",
     "text": [
      "save complete: /home/ldh/1_Tindex/data/T_Index_nii_test/volume/313_7074817_151218_preop_0000.nii.gz\n",
      "save complete: /home/ldh/1_Tindex/data/T_Index_nii_test/mask/313_7074817_151218_preop.nii.gz\n"
     ]
    },
    {
     "name": "stderr",
     "output_type": "stream",
     "text": [
      "\r",
      "  2%|▏         | 2/95 [00:11<06:38,  4.28s/it]"
     ]
    },
    {
     "name": "stdout",
     "output_type": "stream",
     "text": [
      "save complete: /home/ldh/1_Tindex/data/T_Index_nii_test/volume/317_7665620_160217_preop_0000.nii.gz\n",
      "save complete: /home/ldh/1_Tindex/data/T_Index_nii_test/mask/317_7665620_160217_preop.nii.gz\n"
     ]
    },
    {
     "name": "stderr",
     "output_type": "stream",
     "text": [
      "\r",
      "  3%|▎         | 3/95 [00:17<07:12,  4.70s/it]"
     ]
    },
    {
     "name": "stdout",
     "output_type": "stream",
     "text": [
      "save complete: /home/ldh/1_Tindex/data/T_Index_nii_test/volume/321_8226809_160315_preop_0000.nii.gz\n",
      "save complete: /home/ldh/1_Tindex/data/T_Index_nii_test/mask/321_8226809_160315_preop.nii.gz\n"
     ]
    },
    {
     "name": "stderr",
     "output_type": "stream",
     "text": [
      "\r",
      "  4%|▍         | 4/95 [00:24<07:55,  5.22s/it]"
     ]
    },
    {
     "name": "stdout",
     "output_type": "stream",
     "text": [
      "save complete: /home/ldh/1_Tindex/data/T_Index_nii_test/volume/323_8261260_160602_preop_0000.nii.gz\n",
      "save complete: /home/ldh/1_Tindex/data/T_Index_nii_test/mask/323_8261260_160602_preop.nii.gz\n"
     ]
    },
    {
     "name": "stderr",
     "output_type": "stream",
     "text": [
      "\r",
      "  5%|▌         | 5/95 [00:25<06:00,  4.01s/it]"
     ]
    },
    {
     "name": "stdout",
     "output_type": "stream",
     "text": [
      "save complete: /home/ldh/1_Tindex/data/T_Index_nii_test/volume/327_3398845_160725_preop_0000.nii.gz\n",
      "save complete: /home/ldh/1_Tindex/data/T_Index_nii_test/mask/327_3398845_160725_preop.nii.gz\n"
     ]
    },
    {
     "name": "stderr",
     "output_type": "stream",
     "text": [
      "\r",
      "  6%|▋         | 6/95 [00:29<06:01,  4.06s/it]"
     ]
    },
    {
     "name": "stdout",
     "output_type": "stream",
     "text": [
      "save complete: /home/ldh/1_Tindex/data/T_Index_nii_test/volume/330_4306801_160808_preop_0000.nii.gz\n",
      "save complete: /home/ldh/1_Tindex/data/T_Index_nii_test/mask/330_4306801_160808_preop.nii.gz\n"
     ]
    },
    {
     "name": "stderr",
     "output_type": "stream",
     "text": [
      "\r",
      "  7%|▋         | 7/95 [00:32<05:32,  3.78s/it]"
     ]
    },
    {
     "name": "stdout",
     "output_type": "stream",
     "text": [
      "save complete: /home/ldh/1_Tindex/data/T_Index_nii_test/volume/332_8305043_160804_preop_0000.nii.gz\n",
      "save complete: /home/ldh/1_Tindex/data/T_Index_nii_test/mask/332_8305043_160804_preop.nii.gz\n"
     ]
    },
    {
     "name": "stderr",
     "output_type": "stream",
     "text": [
      "\r",
      "  8%|▊         | 8/95 [00:46<09:49,  6.77s/it]"
     ]
    },
    {
     "name": "stdout",
     "output_type": "stream",
     "text": [
      "save complete: /home/ldh/1_Tindex/data/T_Index_nii_test/volume/334_8305285_160823_preop_0000.nii.gz\n",
      "save complete: /home/ldh/1_Tindex/data/T_Index_nii_test/mask/334_8305285_160823_preop.nii.gz\n"
     ]
    },
    {
     "name": "stderr",
     "output_type": "stream",
     "text": [
      "\r",
      "  9%|▉         | 9/95 [00:49<08:09,  5.69s/it]"
     ]
    },
    {
     "name": "stdout",
     "output_type": "stream",
     "text": [
      "save complete: /home/ldh/1_Tindex/data/T_Index_nii_test/volume/336_3828394_160818_preop_0000.nii.gz\n",
      "save complete: /home/ldh/1_Tindex/data/T_Index_nii_test/mask/336_3828394_160818_preop.nii.gz\n"
     ]
    },
    {
     "name": "stderr",
     "output_type": "stream",
     "text": [
      "\r",
      " 11%|█         | 10/95 [00:54<07:36,  5.37s/it]"
     ]
    },
    {
     "name": "stdout",
     "output_type": "stream",
     "text": [
      "save complete: /home/ldh/1_Tindex/data/T_Index_nii_test/volume/338_8328258_161004_preop_0000.nii.gz\n",
      "save complete: /home/ldh/1_Tindex/data/T_Index_nii_test/mask/338_8328258_161004_preop.nii.gz\n"
     ]
    },
    {
     "name": "stderr",
     "output_type": "stream",
     "text": [
      "\r",
      " 12%|█▏        | 11/95 [00:57<06:41,  4.78s/it]"
     ]
    },
    {
     "name": "stdout",
     "output_type": "stream",
     "text": [
      "save complete: /home/ldh/1_Tindex/data/T_Index_nii_test/volume/339_8333066_160924_preop_0000.nii.gz\n",
      "save complete: /home/ldh/1_Tindex/data/T_Index_nii_test/mask/339_8333066_160924_preop.nii.gz\n"
     ]
    },
    {
     "name": "stderr",
     "output_type": "stream",
     "text": [
      "\r",
      " 13%|█▎        | 12/95 [00:59<05:25,  3.92s/it]"
     ]
    },
    {
     "name": "stdout",
     "output_type": "stream",
     "text": [
      "save complete: /home/ldh/1_Tindex/data/T_Index_nii_test/volume/341_5514749_161111_preop_0000.nii.gz\n",
      "save complete: /home/ldh/1_Tindex/data/T_Index_nii_test/mask/341_5514749_161111_preop.nii.gz\n"
     ]
    },
    {
     "name": "stderr",
     "output_type": "stream",
     "text": [
      "\r",
      " 14%|█▎        | 13/95 [01:16<10:53,  7.97s/it]"
     ]
    },
    {
     "name": "stdout",
     "output_type": "stream",
     "text": [
      "save complete: /home/ldh/1_Tindex/data/T_Index_nii_test/volume/346_8401794_170216_preop_0000.nii.gz\n",
      "save complete: /home/ldh/1_Tindex/data/T_Index_nii_test/mask/346_8401794_170216_preop.nii.gz\n"
     ]
    },
    {
     "name": "stderr",
     "output_type": "stream",
     "text": [
      "\r",
      " 15%|█▍        | 14/95 [01:25<10:59,  8.15s/it]"
     ]
    },
    {
     "name": "stdout",
     "output_type": "stream",
     "text": [
      "save complete: /home/ldh/1_Tindex/data/T_Index_nii_test/volume/347_8386115_170117_preop_0000.nii.gz\n",
      "save complete: /home/ldh/1_Tindex/data/T_Index_nii_test/mask/347_8386115_170117_preop.nii.gz\n"
     ]
    },
    {
     "name": "stderr",
     "output_type": "stream",
     "text": [
      "\r",
      " 16%|█▌        | 15/95 [01:27<08:37,  6.47s/it]"
     ]
    },
    {
     "name": "stdout",
     "output_type": "stream",
     "text": [
      "save complete: /home/ldh/1_Tindex/data/T_Index_nii_test/volume/353_8416276_170222_preop_0000.nii.gz\n",
      "save complete: /home/ldh/1_Tindex/data/T_Index_nii_test/mask/353_8416276_170222_preop.nii.gz\n"
     ]
    },
    {
     "name": "stderr",
     "output_type": "stream",
     "text": [
      "\r",
      " 17%|█▋        | 16/95 [01:32<07:57,  6.05s/it]"
     ]
    },
    {
     "name": "stdout",
     "output_type": "stream",
     "text": [
      "save complete: /home/ldh/1_Tindex/data/T_Index_nii_test/volume/361_8444911_170405_preop_0000.nii.gz\n",
      "save complete: /home/ldh/1_Tindex/data/T_Index_nii_test/mask/361_8444911_170405_preop.nii.gz\n"
     ]
    },
    {
     "name": "stderr",
     "output_type": "stream",
     "text": [
      "\r",
      " 18%|█▊        | 17/95 [01:35<06:19,  4.87s/it]"
     ]
    },
    {
     "name": "stdout",
     "output_type": "stream",
     "text": [
      "save complete: /home/ldh/1_Tindex/data/T_Index_nii_test/volume/364_8479256_170705_preop_0000.nii.gz\n",
      "save complete: /home/ldh/1_Tindex/data/T_Index_nii_test/mask/364_8479256_170705_preop.nii.gz\n"
     ]
    },
    {
     "name": "stderr",
     "output_type": "stream",
     "text": [
      "\r",
      " 19%|█▉        | 18/95 [01:41<06:58,  5.44s/it]"
     ]
    },
    {
     "name": "stdout",
     "output_type": "stream",
     "text": [
      "save complete: /home/ldh/1_Tindex/data/T_Index_nii_test/volume/369_8495693_170724_preop_0000.nii.gz\n",
      "save complete: /home/ldh/1_Tindex/data/T_Index_nii_test/mask/369_8495693_170724_preop.nii.gz\n"
     ]
    },
    {
     "name": "stderr",
     "output_type": "stream",
     "text": [
      "\r",
      " 20%|██        | 19/95 [01:54<09:35,  7.58s/it]"
     ]
    },
    {
     "name": "stdout",
     "output_type": "stream",
     "text": [
      "save complete: /home/ldh/1_Tindex/data/T_Index_nii_test/volume/374_7505332_170913_preop_0000.nii.gz\n",
      "save complete: /home/ldh/1_Tindex/data/T_Index_nii_test/mask/374_7505332_170913_preop.nii.gz\n"
     ]
    },
    {
     "name": "stderr",
     "output_type": "stream",
     "text": [
      "\r",
      " 21%|██        | 20/95 [01:59<08:24,  6.73s/it]"
     ]
    },
    {
     "name": "stdout",
     "output_type": "stream",
     "text": [
      "save complete: /home/ldh/1_Tindex/data/T_Index_nii_test/volume/376_4303442_170904_preop_0000.nii.gz\n",
      "save complete: /home/ldh/1_Tindex/data/T_Index_nii_test/mask/376_4303442_170904_preop.nii.gz\n"
     ]
    },
    {
     "name": "stderr",
     "output_type": "stream",
     "text": [
      "\r",
      " 22%|██▏       | 21/95 [02:12<10:36,  8.60s/it]"
     ]
    },
    {
     "name": "stdout",
     "output_type": "stream",
     "text": [
      "save complete: /home/ldh/1_Tindex/data/T_Index_nii_test/volume/380_7728331_171122_preop_0000.nii.gz\n",
      "save complete: /home/ldh/1_Tindex/data/T_Index_nii_test/mask/380_7728331_171122_preop.nii.gz\n"
     ]
    },
    {
     "name": "stderr",
     "output_type": "stream",
     "text": [
      "\r",
      " 23%|██▎       | 22/95 [02:21<10:42,  8.80s/it]"
     ]
    },
    {
     "name": "stdout",
     "output_type": "stream",
     "text": [
      "save complete: /home/ldh/1_Tindex/data/T_Index_nii_test/volume/381_8562215_171121_preop_0000.nii.gz\n",
      "save complete: /home/ldh/1_Tindex/data/T_Index_nii_test/mask/381_8562215_171121_preop.nii.gz\n"
     ]
    },
    {
     "name": "stderr",
     "output_type": "stream",
     "text": [
      "\r",
      " 24%|██▍       | 23/95 [02:30<10:44,  8.94s/it]"
     ]
    },
    {
     "name": "stdout",
     "output_type": "stream",
     "text": [
      "save complete: /home/ldh/1_Tindex/data/T_Index_nii_test/volume/382_8525777_171114_preop_0000.nii.gz\n",
      "save complete: /home/ldh/1_Tindex/data/T_Index_nii_test/mask/382_8525777_171114_preop.nii.gz\n"
     ]
    },
    {
     "name": "stderr",
     "output_type": "stream",
     "text": [
      "\r",
      " 25%|██▌       | 24/95 [02:42<11:32,  9.75s/it]"
     ]
    },
    {
     "name": "stdout",
     "output_type": "stream",
     "text": [
      "save complete: /home/ldh/1_Tindex/data/T_Index_nii_test/volume/384_5478395_171114_preop_0000.nii.gz\n",
      "save complete: /home/ldh/1_Tindex/data/T_Index_nii_test/mask/384_5478395_171114_preop.nii.gz\n"
     ]
    },
    {
     "name": "stderr",
     "output_type": "stream",
     "text": [
      "\r",
      " 26%|██▋       | 25/95 [02:44<08:44,  7.49s/it]"
     ]
    },
    {
     "name": "stdout",
     "output_type": "stream",
     "text": [
      "save complete: /home/ldh/1_Tindex/data/T_Index_nii_test/volume/385_2249575_171206_preop_0000.nii.gz\n",
      "save complete: /home/ldh/1_Tindex/data/T_Index_nii_test/mask/385_2249575_171206_preop.nii.gz\n"
     ]
    },
    {
     "name": "stderr",
     "output_type": "stream",
     "text": [
      "\r",
      " 27%|██▋       | 26/95 [02:54<09:28,  8.24s/it]"
     ]
    },
    {
     "name": "stdout",
     "output_type": "stream",
     "text": [
      "save complete: /home/ldh/1_Tindex/data/T_Index_nii_test/volume/386_8575248_171219_preop_0000.nii.gz\n",
      "save complete: /home/ldh/1_Tindex/data/T_Index_nii_test/mask/386_8575248_171219_preop.nii.gz\n"
     ]
    },
    {
     "name": "stderr",
     "output_type": "stream",
     "text": [
      "\r",
      " 28%|██▊       | 27/95 [02:59<08:21,  7.37s/it]"
     ]
    },
    {
     "name": "stdout",
     "output_type": "stream",
     "text": [
      "save complete: /home/ldh/1_Tindex/data/T_Index_nii_test/volume/389_8566931_171205_preop_0000.nii.gz\n",
      "save complete: /home/ldh/1_Tindex/data/T_Index_nii_test/mask/389_8566931_171205_preop.nii.gz\n"
     ]
    },
    {
     "name": "stderr",
     "output_type": "stream",
     "text": [
      "\r",
      " 29%|██▉       | 28/95 [03:05<07:28,  6.70s/it]"
     ]
    },
    {
     "name": "stdout",
     "output_type": "stream",
     "text": [
      "save complete: /home/ldh/1_Tindex/data/T_Index_nii_test/volume/391_8584746_180106_preop_0000.nii.gz\n",
      "save complete: /home/ldh/1_Tindex/data/T_Index_nii_test/mask/391_8584746_180106_preop.nii.gz\n"
     ]
    },
    {
     "name": "stderr",
     "output_type": "stream",
     "text": [
      "\r",
      " 31%|███       | 29/95 [03:13<07:52,  7.16s/it]"
     ]
    },
    {
     "name": "stdout",
     "output_type": "stream",
     "text": [
      "save complete: /home/ldh/1_Tindex/data/T_Index_nii_test/volume/395_8598198_180228_preop_0000.nii.gz\n",
      "save complete: /home/ldh/1_Tindex/data/T_Index_nii_test/mask/395_8598198_180228_preop.nii.gz\n"
     ]
    },
    {
     "name": "stderr",
     "output_type": "stream",
     "text": [
      "\r",
      " 32%|███▏      | 30/95 [03:21<08:04,  7.46s/it]"
     ]
    },
    {
     "name": "stdout",
     "output_type": "stream",
     "text": [
      "save complete: /home/ldh/1_Tindex/data/T_Index_nii_test/volume/396_8602575_180201_preop_0000.nii.gz\n",
      "save complete: /home/ldh/1_Tindex/data/T_Index_nii_test/mask/396_8602575_180201_preop.nii.gz\n"
     ]
    },
    {
     "name": "stderr",
     "output_type": "stream",
     "text": [
      "\r",
      " 33%|███▎      | 31/95 [03:23<06:19,  5.92s/it]"
     ]
    },
    {
     "name": "stdout",
     "output_type": "stream",
     "text": [
      "save complete: /home/ldh/1_Tindex/data/T_Index_nii_test/volume/397_8620227_180305_preop_0000.nii.gz\n",
      "save complete: /home/ldh/1_Tindex/data/T_Index_nii_test/mask/397_8620227_180305_preop.nii.gz\n"
     ]
    },
    {
     "name": "stderr",
     "output_type": "stream",
     "text": [
      "\r",
      " 34%|███▎      | 32/95 [03:30<06:21,  6.05s/it]"
     ]
    },
    {
     "name": "stdout",
     "output_type": "stream",
     "text": [
      "save complete: /home/ldh/1_Tindex/data/T_Index_nii_test/volume/398_8620702_180301_preop_0000.nii.gz\n",
      "save complete: /home/ldh/1_Tindex/data/T_Index_nii_test/mask/398_8620702_180301_preop.nii.gz\n"
     ]
    },
    {
     "name": "stderr",
     "output_type": "stream",
     "text": [
      "\r",
      " 35%|███▍      | 33/95 [03:36<06:18,  6.10s/it]"
     ]
    },
    {
     "name": "stdout",
     "output_type": "stream",
     "text": [
      "save complete: /home/ldh/1_Tindex/data/T_Index_nii_test/volume/402_8624982_180316_preop_0000.nii.gz\n",
      "save complete: /home/ldh/1_Tindex/data/T_Index_nii_test/mask/402_8624982_180316_preop.nii.gz\n"
     ]
    },
    {
     "name": "stderr",
     "output_type": "stream",
     "text": [
      "\r",
      " 36%|███▌      | 34/95 [03:42<06:08,  6.04s/it]"
     ]
    },
    {
     "name": "stdout",
     "output_type": "stream",
     "text": [
      "save complete: /home/ldh/1_Tindex/data/T_Index_nii_test/volume/404_4113614_180228_preop_0000.nii.gz\n",
      "save complete: /home/ldh/1_Tindex/data/T_Index_nii_test/mask/404_4113614_180228_preop.nii.gz\n"
     ]
    },
    {
     "name": "stderr",
     "output_type": "stream",
     "text": [
      "\r",
      " 37%|███▋      | 35/95 [03:52<07:24,  7.41s/it]"
     ]
    },
    {
     "name": "stdout",
     "output_type": "stream",
     "text": [
      "save complete: /home/ldh/1_Tindex/data/T_Index_nii_test/volume/405_8631223_180320_preop_0000.nii.gz\n",
      "save complete: /home/ldh/1_Tindex/data/T_Index_nii_test/mask/405_8631223_180320_preop.nii.gz\n"
     ]
    },
    {
     "name": "stderr",
     "output_type": "stream",
     "text": [
      "\r",
      " 38%|███▊      | 36/95 [03:57<06:35,  6.71s/it]"
     ]
    },
    {
     "name": "stdout",
     "output_type": "stream",
     "text": [
      "save complete: /home/ldh/1_Tindex/data/T_Index_nii_test/volume/406_8628923_180326_preop_0000.nii.gz\n",
      "save complete: /home/ldh/1_Tindex/data/T_Index_nii_test/mask/406_8628923_180326_preop.nii.gz\n"
     ]
    },
    {
     "name": "stderr",
     "output_type": "stream",
     "text": [
      "\r",
      " 39%|███▉      | 37/95 [04:03<06:05,  6.30s/it]"
     ]
    },
    {
     "name": "stdout",
     "output_type": "stream",
     "text": [
      "save complete: /home/ldh/1_Tindex/data/T_Index_nii_test/volume/408_8632378_180405_preop_0000.nii.gz\n",
      "save complete: /home/ldh/1_Tindex/data/T_Index_nii_test/mask/408_8632378_180405_preop.nii.gz\n"
     ]
    },
    {
     "name": "stderr",
     "output_type": "stream",
     "text": [
      "\r",
      " 40%|████      | 38/95 [04:08<05:49,  6.13s/it]"
     ]
    },
    {
     "name": "stdout",
     "output_type": "stream",
     "text": [
      "save complete: /home/ldh/1_Tindex/data/T_Index_nii_test/volume/410_8637071_180405_preop_0000.nii.gz\n",
      "save complete: /home/ldh/1_Tindex/data/T_Index_nii_test/mask/410_8637071_180405_preop.nii.gz\n"
     ]
    },
    {
     "name": "stderr",
     "output_type": "stream",
     "text": [
      "\r",
      " 41%|████      | 39/95 [04:11<04:48,  5.15s/it]"
     ]
    },
    {
     "name": "stdout",
     "output_type": "stream",
     "text": [
      "save complete: /home/ldh/1_Tindex/data/T_Index_nii_test/volume/412_5291274_180412_preop_0000.nii.gz\n",
      "save complete: /home/ldh/1_Tindex/data/T_Index_nii_test/mask/412_5291274_180412_preop.nii.gz\n"
     ]
    },
    {
     "name": "stderr",
     "output_type": "stream",
     "text": [
      "\r",
      " 42%|████▏     | 40/95 [04:19<05:30,  6.01s/it]"
     ]
    },
    {
     "name": "stdout",
     "output_type": "stream",
     "text": [
      "save complete: /home/ldh/1_Tindex/data/T_Index_nii_test/volume/413_8638636_180416_preop_ADK_0000.nii.gz\n",
      "save complete: /home/ldh/1_Tindex/data/T_Index_nii_test/mask/413_8638636_180416_preop_ADK.nii.gz\n"
     ]
    },
    {
     "name": "stderr",
     "output_type": "stream",
     "text": [
      "\r",
      " 43%|████▎     | 41/95 [04:25<05:21,  5.96s/it]"
     ]
    },
    {
     "name": "stdout",
     "output_type": "stream",
     "text": [
      "save complete: /home/ldh/1_Tindex/data/T_Index_nii_test/volume/416_5798318_180419_preop_ADK_0000.nii.gz\n",
      "save complete: /home/ldh/1_Tindex/data/T_Index_nii_test/mask/416_5798318_180419_preop_ADK.nii.gz\n"
     ]
    },
    {
     "name": "stderr",
     "output_type": "stream",
     "text": [
      "\r",
      " 44%|████▍     | 42/95 [04:30<04:55,  5.58s/it]"
     ]
    },
    {
     "name": "stdout",
     "output_type": "stream",
     "text": [
      "save complete: /home/ldh/1_Tindex/data/T_Index_nii_test/volume/417_8482608_180515_preop_0000.nii.gz\n",
      "save complete: /home/ldh/1_Tindex/data/T_Index_nii_test/mask/417_8482608_180515_preop.nii.gz\n"
     ]
    },
    {
     "name": "stderr",
     "output_type": "stream",
     "text": [
      "\r",
      " 45%|████▌     | 43/95 [04:37<05:21,  6.18s/it]"
     ]
    },
    {
     "name": "stdout",
     "output_type": "stream",
     "text": [
      "save complete: /home/ldh/1_Tindex/data/T_Index_nii_test/volume/420_7990844_180510_preop_0000.nii.gz\n",
      "save complete: /home/ldh/1_Tindex/data/T_Index_nii_test/mask/420_7990844_180510_preop.nii.gz\n"
     ]
    },
    {
     "name": "stderr",
     "output_type": "stream",
     "text": [
      "\r",
      " 46%|████▋     | 44/95 [04:49<06:41,  7.86s/it]"
     ]
    },
    {
     "name": "stdout",
     "output_type": "stream",
     "text": [
      "save complete: /home/ldh/1_Tindex/data/T_Index_nii_test/volume/430_8701549_180720_preop_0000.nii.gz\n",
      "save complete: /home/ldh/1_Tindex/data/T_Index_nii_test/mask/430_8701549_180720_preop.nii.gz\n"
     ]
    },
    {
     "name": "stderr",
     "output_type": "stream",
     "text": [
      "\r",
      " 47%|████▋     | 45/95 [04:58<06:52,  8.25s/it]"
     ]
    },
    {
     "name": "stdout",
     "output_type": "stream",
     "text": [
      "save complete: /home/ldh/1_Tindex/data/T_Index_nii_test/volume/431_8709312_180809_preop_0000.nii.gz\n",
      "save complete: /home/ldh/1_Tindex/data/T_Index_nii_test/mask/431_8709312_180809_preop.nii.gz\n"
     ]
    },
    {
     "name": "stderr",
     "output_type": "stream",
     "text": [
      "\r",
      " 48%|████▊     | 46/95 [05:02<05:37,  6.89s/it]"
     ]
    },
    {
     "name": "stdout",
     "output_type": "stream",
     "text": [
      "save complete: /home/ldh/1_Tindex/data/T_Index_nii_test/volume/432_8711880_180813_preop_0000.nii.gz\n",
      "save complete: /home/ldh/1_Tindex/data/T_Index_nii_test/mask/432_8711880_180813_preop.nii.gz\n"
     ]
    },
    {
     "name": "stderr",
     "output_type": "stream",
     "text": [
      "\r",
      " 49%|████▉     | 47/95 [05:08<05:13,  6.53s/it]"
     ]
    },
    {
     "name": "stdout",
     "output_type": "stream",
     "text": [
      "save complete: /home/ldh/1_Tindex/data/T_Index_nii_test/volume/433_8722184_180821_preop_0000.nii.gz\n",
      "save complete: /home/ldh/1_Tindex/data/T_Index_nii_test/mask/433_8722184_180821_preop.nii.gz\n"
     ]
    },
    {
     "name": "stderr",
     "output_type": "stream",
     "text": [
      "\r",
      " 51%|█████     | 48/95 [05:10<03:59,  5.10s/it]"
     ]
    },
    {
     "name": "stdout",
     "output_type": "stream",
     "text": [
      "save complete: /home/ldh/1_Tindex/data/T_Index_nii_test/volume/434_8725519_180906_preop_0000.nii.gz\n",
      "save complete: /home/ldh/1_Tindex/data/T_Index_nii_test/mask/434_8725519_180906_preop.nii.gz\n"
     ]
    },
    {
     "name": "stderr",
     "output_type": "stream",
     "text": [
      "\r",
      " 52%|█████▏    | 49/95 [05:12<03:16,  4.27s/it]"
     ]
    },
    {
     "name": "stdout",
     "output_type": "stream",
     "text": [
      "save complete: /home/ldh/1_Tindex/data/T_Index_nii_test/volume/441_5463336_181105_preop_0000.nii.gz\n",
      "save complete: /home/ldh/1_Tindex/data/T_Index_nii_test/mask/441_5463336_181105_preop.nii.gz\n"
     ]
    },
    {
     "name": "stderr",
     "output_type": "stream",
     "text": [
      "\r",
      " 53%|█████▎    | 50/95 [05:15<03:01,  4.03s/it]"
     ]
    },
    {
     "name": "stdout",
     "output_type": "stream",
     "text": [
      "save complete: /home/ldh/1_Tindex/data/T_Index_nii_test/volume/444_8758096_181030_preop_dual_0000.nii.gz\n",
      "save complete: /home/ldh/1_Tindex/data/T_Index_nii_test/mask/444_8758096_181030_preop_dual.nii.gz\n"
     ]
    },
    {
     "name": "stderr",
     "output_type": "stream",
     "text": [
      "\r",
      " 54%|█████▎    | 51/95 [05:20<03:04,  4.19s/it]"
     ]
    },
    {
     "name": "stdout",
     "output_type": "stream",
     "text": [
      "save complete: /home/ldh/1_Tindex/data/T_Index_nii_test/volume/451_8773160_181127_preop_0000.nii.gz\n",
      "save complete: /home/ldh/1_Tindex/data/T_Index_nii_test/mask/451_8773160_181127_preop.nii.gz\n"
     ]
    },
    {
     "name": "stderr",
     "output_type": "stream",
     "text": [
      "\r",
      " 55%|█████▍    | 52/95 [05:27<03:35,  5.02s/it]"
     ]
    },
    {
     "name": "stdout",
     "output_type": "stream",
     "text": [
      "save complete: /home/ldh/1_Tindex/data/T_Index_nii_test/volume/457_8792862_181227_preop_0000.nii.gz\n",
      "save complete: /home/ldh/1_Tindex/data/T_Index_nii_test/mask/457_8792862_181227_preop.nii.gz\n"
     ]
    },
    {
     "name": "stderr",
     "output_type": "stream",
     "text": [
      "\r",
      " 56%|█████▌    | 53/95 [05:35<04:12,  6.02s/it]"
     ]
    },
    {
     "name": "stdout",
     "output_type": "stream",
     "text": [
      "save complete: /home/ldh/1_Tindex/data/T_Index_nii_test/volume/460_8800307_190111_preop_0000.nii.gz\n",
      "save complete: /home/ldh/1_Tindex/data/T_Index_nii_test/mask/460_8800307_190111_preop.nii.gz\n"
     ]
    },
    {
     "name": "stderr",
     "output_type": "stream",
     "text": [
      "\r",
      " 57%|█████▋    | 54/95 [05:49<05:36,  8.22s/it]"
     ]
    },
    {
     "name": "stdout",
     "output_type": "stream",
     "text": [
      "save complete: /home/ldh/1_Tindex/data/T_Index_nii_test/volume/461_3489041_190103_preop_0000.nii.gz\n",
      "save complete: /home/ldh/1_Tindex/data/T_Index_nii_test/mask/461_3489041_190103_preop.nii.gz\n"
     ]
    },
    {
     "name": "stderr",
     "output_type": "stream",
     "text": [
      "\r",
      " 58%|█████▊    | 55/95 [05:50<04:11,  6.30s/it]"
     ]
    },
    {
     "name": "stdout",
     "output_type": "stream",
     "text": [
      "save complete: /home/ldh/1_Tindex/data/T_Index_nii_test/volume/468_8820018_190124_preop_0000.nii.gz\n",
      "save complete: /home/ldh/1_Tindex/data/T_Index_nii_test/mask/468_8820018_190124_preop.nii.gz\n"
     ]
    },
    {
     "name": "stderr",
     "output_type": "stream",
     "text": [
      "\r",
      " 59%|█████▉    | 56/95 [05:56<03:56,  6.06s/it]"
     ]
    },
    {
     "name": "stdout",
     "output_type": "stream",
     "text": [
      "save complete: /home/ldh/1_Tindex/data/T_Index_nii_test/volume/469_8816368_190207_preop_0000.nii.gz\n",
      "save complete: /home/ldh/1_Tindex/data/T_Index_nii_test/mask/469_8816368_190207_preop.nii.gz\n"
     ]
    },
    {
     "name": "stderr",
     "output_type": "stream",
     "text": [
      "\r",
      " 60%|██████    | 57/95 [06:04<04:12,  6.64s/it]"
     ]
    },
    {
     "name": "stdout",
     "output_type": "stream",
     "text": [
      "save complete: /home/ldh/1_Tindex/data/T_Index_nii_test/volume/477_8846897_190322_preop_0000.nii.gz\n",
      "save complete: /home/ldh/1_Tindex/data/T_Index_nii_test/mask/477_8846897_190322_preop.nii.gz\n"
     ]
    },
    {
     "name": "stderr",
     "output_type": "stream",
     "text": [
      "\r",
      " 61%|██████    | 58/95 [06:14<04:45,  7.72s/it]"
     ]
    },
    {
     "name": "stdout",
     "output_type": "stream",
     "text": [
      "save complete: /home/ldh/1_Tindex/data/T_Index_nii_test/volume/480_7710708_190405_preop_0000.nii.gz\n",
      "save complete: /home/ldh/1_Tindex/data/T_Index_nii_test/mask/480_7710708_190405_preop.nii.gz\n"
     ]
    },
    {
     "name": "stderr",
     "output_type": "stream",
     "text": [
      "\r",
      " 62%|██████▏   | 59/95 [06:16<03:39,  6.11s/it]"
     ]
    },
    {
     "name": "stdout",
     "output_type": "stream",
     "text": [
      "save complete: /home/ldh/1_Tindex/data/T_Index_nii_test/volume/483_7195195_190406_preop_0000.nii.gz\n",
      "save complete: /home/ldh/1_Tindex/data/T_Index_nii_test/mask/483_7195195_190406_preop.nii.gz\n"
     ]
    },
    {
     "name": "stderr",
     "output_type": "stream",
     "text": [
      "\r",
      " 63%|██████▎   | 60/95 [06:21<03:17,  5.65s/it]"
     ]
    },
    {
     "name": "stdout",
     "output_type": "stream",
     "text": [
      "save complete: /home/ldh/1_Tindex/data/T_Index_nii_test/volume/486_8861002_190410_preop_0000.nii.gz\n",
      "save complete: /home/ldh/1_Tindex/data/T_Index_nii_test/mask/486_8861002_190410_preop.nii.gz\n"
     ]
    },
    {
     "name": "stderr",
     "output_type": "stream",
     "text": [
      "\r",
      " 64%|██████▍   | 61/95 [06:26<03:09,  5.56s/it]"
     ]
    },
    {
     "name": "stdout",
     "output_type": "stream",
     "text": [
      "save complete: /home/ldh/1_Tindex/data/T_Index_nii_test/volume/489_10009092_190510_preop_0000.nii.gz\n",
      "save complete: /home/ldh/1_Tindex/data/T_Index_nii_test/mask/489_10009092_190510_preop.nii.gz\n"
     ]
    },
    {
     "name": "stderr",
     "output_type": "stream",
     "text": [
      "\r",
      " 65%|██████▌   | 62/95 [06:36<03:46,  6.88s/it]"
     ]
    },
    {
     "name": "stdout",
     "output_type": "stream",
     "text": [
      "save complete: /home/ldh/1_Tindex/data/T_Index_nii_test/volume/491_10006242_190422_preop_0000.nii.gz\n",
      "save complete: /home/ldh/1_Tindex/data/T_Index_nii_test/mask/491_10006242_190422_preop.nii.gz\n"
     ]
    },
    {
     "name": "stderr",
     "output_type": "stream",
     "text": [
      "\r",
      " 66%|██████▋   | 63/95 [06:49<04:30,  8.46s/it]"
     ]
    },
    {
     "name": "stdout",
     "output_type": "stream",
     "text": [
      "save complete: /home/ldh/1_Tindex/data/T_Index_nii_test/volume/493_10004624_190503_preop_0000.nii.gz\n",
      "save complete: /home/ldh/1_Tindex/data/T_Index_nii_test/mask/493_10004624_190503_preop.nii.gz\n"
     ]
    },
    {
     "name": "stderr",
     "output_type": "stream",
     "text": [
      "\r",
      " 67%|██████▋   | 64/95 [06:54<03:57,  7.65s/it]"
     ]
    },
    {
     "name": "stdout",
     "output_type": "stream",
     "text": [
      "save complete: /home/ldh/1_Tindex/data/T_Index_nii_test/volume/498_10019164_190523_preop_0000.nii.gz\n",
      "save complete: /home/ldh/1_Tindex/data/T_Index_nii_test/mask/498_10019164_190523_preop.nii.gz\n"
     ]
    },
    {
     "name": "stderr",
     "output_type": "stream",
     "text": [
      "\r",
      " 68%|██████▊   | 65/95 [06:57<03:07,  6.24s/it]"
     ]
    },
    {
     "name": "stdout",
     "output_type": "stream",
     "text": [
      "save complete: /home/ldh/1_Tindex/data/T_Index_nii_test/volume/500_10031429_190617_preop_0000.nii.gz\n",
      "save complete: /home/ldh/1_Tindex/data/T_Index_nii_test/mask/500_10031429_190617_preop.nii.gz\n"
     ]
    },
    {
     "name": "stderr",
     "output_type": "stream",
     "text": [
      "\r",
      " 69%|██████▉   | 66/95 [07:01<02:41,  5.56s/it]"
     ]
    },
    {
     "name": "stdout",
     "output_type": "stream",
     "text": [
      "save complete: /home/ldh/1_Tindex/data/T_Index_nii_test/volume/502_10014545_190503_preop_0000.nii.gz\n",
      "save complete: /home/ldh/1_Tindex/data/T_Index_nii_test/mask/502_10014545_190503_preop.nii.gz\n"
     ]
    },
    {
     "name": "stderr",
     "output_type": "stream",
     "text": [
      "\r",
      " 71%|███████   | 67/95 [07:06<02:25,  5.20s/it]"
     ]
    },
    {
     "name": "stdout",
     "output_type": "stream",
     "text": [
      "save complete: /home/ldh/1_Tindex/data/T_Index_nii_test/volume/503_10030059_190601_preop_0000.nii.gz\n",
      "save complete: /home/ldh/1_Tindex/data/T_Index_nii_test/mask/503_10030059_190601_preop.nii.gz\n"
     ]
    },
    {
     "name": "stderr",
     "output_type": "stream",
     "text": [
      "\r",
      " 72%|███████▏  | 68/95 [07:14<02:43,  6.06s/it]"
     ]
    },
    {
     "name": "stdout",
     "output_type": "stream",
     "text": [
      "save complete: /home/ldh/1_Tindex/data/T_Index_nii_test/volume/504_3718217_190515_preop_0000.nii.gz\n",
      "save complete: /home/ldh/1_Tindex/data/T_Index_nii_test/mask/504_3718217_190515_preop.nii.gz\n"
     ]
    },
    {
     "name": "stderr",
     "output_type": "stream",
     "text": [
      "\r",
      " 73%|███████▎  | 69/95 [07:20<02:39,  6.15s/it]"
     ]
    },
    {
     "name": "stdout",
     "output_type": "stream",
     "text": [
      "save complete: /home/ldh/1_Tindex/data/T_Index_nii_test/volume/507_10035193_190528_preop_0000.nii.gz\n",
      "save complete: /home/ldh/1_Tindex/data/T_Index_nii_test/mask/507_10035193_190528_preop.nii.gz\n"
     ]
    },
    {
     "name": "stderr",
     "output_type": "stream",
     "text": [
      "\r",
      " 74%|███████▎  | 70/95 [07:25<02:22,  5.68s/it]"
     ]
    },
    {
     "name": "stdout",
     "output_type": "stream",
     "text": [
      "save complete: /home/ldh/1_Tindex/data/T_Index_nii_test/volume/509_10034811_190527_preop_0000.nii.gz\n",
      "save complete: /home/ldh/1_Tindex/data/T_Index_nii_test/mask/509_10034811_190527_preop.nii.gz\n"
     ]
    },
    {
     "name": "stderr",
     "output_type": "stream",
     "text": [
      "\r",
      " 75%|███████▍  | 71/95 [08:12<07:18, 18.29s/it]"
     ]
    },
    {
     "name": "stdout",
     "output_type": "stream",
     "text": [
      "save complete: /home/ldh/1_Tindex/data/T_Index_nii_test/volume/510_4181446_190701_preop_0000.nii.gz\n",
      "save complete: /home/ldh/1_Tindex/data/T_Index_nii_test/mask/510_4181446_190701_preop.nii.gz\n"
     ]
    },
    {
     "name": "stderr",
     "output_type": "stream",
     "text": [
      "\r",
      " 76%|███████▌  | 72/95 [08:14<05:09, 13.44s/it]"
     ]
    },
    {
     "name": "stdout",
     "output_type": "stream",
     "text": [
      "save complete: /home/ldh/1_Tindex/data/T_Index_nii_test/volume/513_10040117_190618_preop_0000.nii.gz\n",
      "save complete: /home/ldh/1_Tindex/data/T_Index_nii_test/mask/513_10040117_190618_preop.nii.gz\n"
     ]
    },
    {
     "name": "stderr",
     "output_type": "stream",
     "text": [
      "\r",
      " 77%|███████▋  | 73/95 [08:19<03:57, 10.78s/it]"
     ]
    },
    {
     "name": "stdout",
     "output_type": "stream",
     "text": [
      "save complete: /home/ldh/1_Tindex/data/T_Index_nii_test/volume/517_10052386_190719_preop_0000.nii.gz\n",
      "save complete: /home/ldh/1_Tindex/data/T_Index_nii_test/mask/517_10052386_190719_preop.nii.gz\n"
     ]
    },
    {
     "name": "stderr",
     "output_type": "stream",
     "text": [
      "\r",
      " 78%|███████▊  | 74/95 [08:25<03:16,  9.33s/it]"
     ]
    },
    {
     "name": "stdout",
     "output_type": "stream",
     "text": [
      "save complete: /home/ldh/1_Tindex/data/T_Index_nii_test/volume/519_10047095_190705_preop_0000.nii.gz\n",
      "save complete: /home/ldh/1_Tindex/data/T_Index_nii_test/mask/519_10047095_190705_preop.nii.gz\n"
     ]
    },
    {
     "name": "stderr",
     "output_type": "stream",
     "text": [
      "\r",
      " 79%|███████▉  | 75/95 [08:30<02:38,  7.94s/it]"
     ]
    },
    {
     "name": "stdout",
     "output_type": "stream",
     "text": [
      "save complete: /home/ldh/1_Tindex/data/T_Index_nii_test/volume/520_8843856_190327_preop_0000.nii.gz\n",
      "save complete: /home/ldh/1_Tindex/data/T_Index_nii_test/mask/520_8843856_190327_preop.nii.gz\n"
     ]
    },
    {
     "name": "stderr",
     "output_type": "stream",
     "text": [
      "\r",
      " 80%|████████  | 76/95 [08:34<02:09,  6.82s/it]"
     ]
    },
    {
     "name": "stdout",
     "output_type": "stream",
     "text": [
      "save complete: /home/ldh/1_Tindex/data/T_Index_nii_test/volume/522_5446805_190719_preop_0000.nii.gz\n",
      "save complete: /home/ldh/1_Tindex/data/T_Index_nii_test/mask/522_5446805_190719_preop.nii.gz\n"
     ]
    },
    {
     "name": "stderr",
     "output_type": "stream",
     "text": [
      "\r",
      " 81%|████████  | 77/95 [08:42<02:08,  7.17s/it]"
     ]
    },
    {
     "name": "stdout",
     "output_type": "stream",
     "text": [
      "save complete: /home/ldh/1_Tindex/data/T_Index_nii_test/volume/523_4176545_190719_preop_0000.nii.gz\n",
      "save complete: /home/ldh/1_Tindex/data/T_Index_nii_test/mask/523_4176545_190719_preop.nii.gz\n"
     ]
    },
    {
     "name": "stderr",
     "output_type": "stream",
     "text": [
      "\r",
      " 82%|████████▏ | 78/95 [08:55<02:33,  9.02s/it]"
     ]
    },
    {
     "name": "stdout",
     "output_type": "stream",
     "text": [
      "save complete: /home/ldh/1_Tindex/data/T_Index_nii_test/volume/524_4040707_190803_preop_0000.nii.gz\n",
      "save complete: /home/ldh/1_Tindex/data/T_Index_nii_test/mask/524_4040707_190803_preop.nii.gz\n"
     ]
    },
    {
     "name": "stderr",
     "output_type": "stream",
     "text": [
      "\r",
      " 83%|████████▎ | 79/95 [09:01<02:08,  8.05s/it]"
     ]
    },
    {
     "name": "stdout",
     "output_type": "stream",
     "text": [
      "save complete: /home/ldh/1_Tindex/data/T_Index_nii_test/volume/525_10053706_190715_preop_0000.nii.gz\n",
      "save complete: /home/ldh/1_Tindex/data/T_Index_nii_test/mask/525_10053706_190715_preop.nii.gz\n"
     ]
    },
    {
     "name": "stderr",
     "output_type": "stream",
     "text": [
      "\r",
      " 84%|████████▍ | 80/95 [09:05<01:44,  6.98s/it]"
     ]
    },
    {
     "name": "stdout",
     "output_type": "stream",
     "text": [
      "save complete: /home/ldh/1_Tindex/data/T_Index_nii_test/volume/529_3732432_190819_preop_0000.nii.gz\n",
      "save complete: /home/ldh/1_Tindex/data/T_Index_nii_test/mask/529_3732432_190819_preop.nii.gz\n"
     ]
    },
    {
     "name": "stderr",
     "output_type": "stream",
     "text": [
      "\r",
      " 85%|████████▌ | 81/95 [09:08<01:19,  5.65s/it]"
     ]
    },
    {
     "name": "stdout",
     "output_type": "stream",
     "text": [
      "save complete: /home/ldh/1_Tindex/data/T_Index_nii_test/volume/536_10080252_190904_preop_0000.nii.gz\n",
      "save complete: /home/ldh/1_Tindex/data/T_Index_nii_test/mask/536_10080252_190904_preop.nii.gz\n"
     ]
    },
    {
     "name": "stderr",
     "output_type": "stream",
     "text": [
      "\r",
      " 86%|████████▋ | 82/95 [09:14<01:16,  5.88s/it]"
     ]
    },
    {
     "name": "stdout",
     "output_type": "stream",
     "text": [
      "save complete: /home/ldh/1_Tindex/data/T_Index_nii_test/volume/538_10070524_190810_preop_0000.nii.gz\n",
      "save complete: /home/ldh/1_Tindex/data/T_Index_nii_test/mask/538_10070524_190810_preop.nii.gz\n"
     ]
    },
    {
     "name": "stderr",
     "output_type": "stream",
     "text": [
      "\r",
      " 87%|████████▋ | 83/95 [09:17<00:59,  4.95s/it]"
     ]
    },
    {
     "name": "stdout",
     "output_type": "stream",
     "text": [
      "save complete: /home/ldh/1_Tindex/data/T_Index_nii_test/volume/539_10093252_190927_preop_0000.nii.gz\n",
      "save complete: /home/ldh/1_Tindex/data/T_Index_nii_test/mask/539_10093252_190927_preop.nii.gz\n"
     ]
    },
    {
     "name": "stderr",
     "output_type": "stream",
     "text": [
      "\r",
      " 88%|████████▊ | 84/95 [09:21<00:52,  4.75s/it]"
     ]
    },
    {
     "name": "stdout",
     "output_type": "stream",
     "text": [
      "save complete: /home/ldh/1_Tindex/data/T_Index_nii_test/volume/540_5063343_191004_preop_0000.nii.gz\n",
      "save complete: /home/ldh/1_Tindex/data/T_Index_nii_test/mask/540_5063343_191004_preop.nii.gz\n"
     ]
    },
    {
     "name": "stderr",
     "output_type": "stream",
     "text": [
      "\r",
      " 89%|████████▉ | 85/95 [09:30<01:00,  6.02s/it]"
     ]
    },
    {
     "name": "stdout",
     "output_type": "stream",
     "text": [
      "save complete: /home/ldh/1_Tindex/data/T_Index_nii_test/volume/544_8279694_191008_preop_0000.nii.gz\n",
      "save complete: /home/ldh/1_Tindex/data/T_Index_nii_test/mask/544_8279694_191008_preop.nii.gz\n"
     ]
    },
    {
     "name": "stderr",
     "output_type": "stream",
     "text": [
      "\r",
      " 91%|█████████ | 86/95 [09:35<00:50,  5.57s/it]"
     ]
    },
    {
     "name": "stdout",
     "output_type": "stream",
     "text": [
      "save complete: /home/ldh/1_Tindex/data/T_Index_nii_test/volume/545_10110066_191027_preop_0000.nii.gz\n",
      "save complete: /home/ldh/1_Tindex/data/T_Index_nii_test/mask/545_10110066_191027_preop.nii.gz\n"
     ]
    },
    {
     "name": "stderr",
     "output_type": "stream",
     "text": [
      "\r",
      " 92%|█████████▏| 87/95 [09:51<01:10,  8.84s/it]"
     ]
    },
    {
     "name": "stdout",
     "output_type": "stream",
     "text": [
      "save complete: /home/ldh/1_Tindex/data/T_Index_nii_test/volume/546_10111427_191028_preop_0000.nii.gz\n",
      "save complete: /home/ldh/1_Tindex/data/T_Index_nii_test/mask/546_10111427_191028_preop.nii.gz\n"
     ]
    },
    {
     "name": "stderr",
     "output_type": "stream",
     "text": [
      "\r",
      " 93%|█████████▎| 88/95 [09:59<00:58,  8.42s/it]"
     ]
    },
    {
     "name": "stdout",
     "output_type": "stream",
     "text": [
      "save complete: /home/ldh/1_Tindex/data/T_Index_nii_test/volume/547_10109737_191024_preop_0000.nii.gz\n",
      "save complete: /home/ldh/1_Tindex/data/T_Index_nii_test/mask/547_10109737_191024_preop.nii.gz\n"
     ]
    },
    {
     "name": "stderr",
     "output_type": "stream",
     "text": [
      "\r",
      " 94%|█████████▎| 89/95 [10:03<00:42,  7.03s/it]"
     ]
    },
    {
     "name": "stdout",
     "output_type": "stream",
     "text": [
      "save complete: /home/ldh/1_Tindex/data/T_Index_nii_test/volume/548_10104793_191017_preop_0000.nii.gz\n",
      "save complete: /home/ldh/1_Tindex/data/T_Index_nii_test/mask/548_10104793_191017_preop.nii.gz\n"
     ]
    },
    {
     "name": "stderr",
     "output_type": "stream",
     "text": [
      "\r",
      " 95%|█████████▍| 90/95 [10:12<00:39,  7.87s/it]"
     ]
    },
    {
     "name": "stdout",
     "output_type": "stream",
     "text": [
      "save complete: /home/ldh/1_Tindex/data/T_Index_nii_test/volume/557_10133737_191206_preop_0000.nii.gz\n",
      "save complete: /home/ldh/1_Tindex/data/T_Index_nii_test/mask/557_10133737_191206_preop.nii.gz\n"
     ]
    },
    {
     "name": "stderr",
     "output_type": "stream",
     "text": [
      "\r",
      " 96%|█████████▌| 91/95 [10:30<00:43, 10.88s/it]"
     ]
    },
    {
     "name": "stdout",
     "output_type": "stream",
     "text": [
      "save complete: /home/ldh/1_Tindex/data/T_Index_nii_test/volume/558_10097620_191216_preop_0000.nii.gz\n",
      "save complete: /home/ldh/1_Tindex/data/T_Index_nii_test/mask/558_10097620_191216_preop.nii.gz\n"
     ]
    },
    {
     "name": "stderr",
     "output_type": "stream",
     "text": [
      "\r",
      " 97%|█████████▋| 92/95 [10:35<00:27,  9.00s/it]"
     ]
    },
    {
     "name": "stdout",
     "output_type": "stream",
     "text": [
      "save complete: /home/ldh/1_Tindex/data/T_Index_nii_test/volume/559_5889902_191207_preop_0000.nii.gz\n",
      "save complete: /home/ldh/1_Tindex/data/T_Index_nii_test/mask/559_5889902_191207_preop.nii.gz\n"
     ]
    },
    {
     "name": "stderr",
     "output_type": "stream",
     "text": [
      "\r",
      " 98%|█████████▊| 93/95 [10:43<00:17,  8.78s/it]"
     ]
    },
    {
     "name": "stdout",
     "output_type": "stream",
     "text": [
      "save complete: /home/ldh/1_Tindex/data/T_Index_nii_test/volume/560_2648192_191212_preop_0000.nii.gz\n",
      "save complete: /home/ldh/1_Tindex/data/T_Index_nii_test/mask/560_2648192_191212_preop.nii.gz\n"
     ]
    },
    {
     "name": "stderr",
     "output_type": "stream",
     "text": [
      "\r",
      " 99%|█████████▉| 94/95 [10:52<00:08,  8.67s/it]"
     ]
    },
    {
     "name": "stdout",
     "output_type": "stream",
     "text": [
      "save complete: /home/ldh/1_Tindex/data/T_Index_nii_test/volume/562_8217005_191202_preop_0000.nii.gz\n",
      "save complete: /home/ldh/1_Tindex/data/T_Index_nii_test/mask/562_8217005_191202_preop.nii.gz\n"
     ]
    },
    {
     "name": "stderr",
     "output_type": "stream",
     "text": [
      "100%|██████████| 95/95 [10:57<00:00,  6.92s/it]"
     ]
    },
    {
     "name": "stdout",
     "output_type": "stream",
     "text": [
      "save complete: /home/ldh/1_Tindex/data/T_Index_nii_test/volume/565_8849689_191129_preop_0000.nii.gz\n",
      "save complete: /home/ldh/1_Tindex/data/T_Index_nii_test/mask/565_8849689_191129_preop.nii.gz\n"
     ]
    },
    {
     "name": "stderr",
     "output_type": "stream",
     "text": [
      "\n"
     ]
    }
   ],
   "source": [
    "for f in tqdm(subfolders(ref_path)):\n",
    "    for file in subfiles(f):\n",
    "        if '.nrrd' in file:\n",
    "            if 'seg.nrrd' in file:\n",
    "                seg_path = file\n",
    "            else:\n",
    "                ori_path = file\n",
    "            \n",
    "    vol_save_path = vol_path+'/'+f.split('/')[-1]+'_0000.nii.gz'\n",
    "    mask_save_path = mask_path+'/'+f.split('/')[-1]+'.nii.gz'\n",
    "\n",
    "    nrrd_to_nii(ori_path, seg_path, vol_save_path, mask_save_path)\n",
    "    print('save complete:' ,vol_save_path)\n",
    "    print('save complete:' ,mask_save_path)"
   ]
  },
  {
   "cell_type": "code",
   "execution_count": 31,
   "metadata": {},
   "outputs": [],
   "source": [
    "from skimage.measure import label\n",
    "from tqdm import tqdm\n",
    "import SimpleITK as sitk\n",
    "import pandas as pd"
   ]
  },
  {
   "cell_type": "code",
   "execution_count": 38,
   "metadata": {},
   "outputs": [
    {
     "name": "stderr",
     "output_type": "stream",
     "text": [
      "100%|██████████| 125/125 [02:43<00:00,  1.31s/it]\n"
     ]
    }
   ],
   "source": [
    "import SimpleITK as sitk\n",
    "right_vol=[]\n",
    "left_vol=[]\n",
    "total_vol=[]\n",
    "mass_vol=[]\n",
    "p_id=[]\n",
    "for f in tqdm(subfolders('/home/ldh/1_Tindex/data/T_Index_nii')):\n",
    "\n",
    "    seg_path=f+'/segmentation.nii.gz'\n",
    "    seg_itk=sitk.ReadImage(seg_path)\n",
    "    seg_npy=sitk.GetArrayFromImage(seg_itk)\n",
    "    seg_npy[seg_npy!=1]=0\n",
    "\n",
    "    labels=label(seg_npy)\n",
    "    right_vol_p=[]\n",
    "    left_vol_p=[]\n",
    "\n",
    "    for d in np.unique(labels)[1:]:\n",
    "        raw=np.zeros(seg_npy.shape)\n",
    "        raw[labels==d]=1\n",
    "\n",
    "        #right\n",
    "        if np.mean(np.where(raw==1)[-1])<250:\n",
    "            right_vol_p.append(len(np.where(raw==1)[0]))\n",
    "        #left\n",
    "        else:\n",
    "            left_vol_p.append(len(np.where(raw==1)[0]))\n",
    "            \n",
    "    spc_x,spc_y,spc_z=seg_itk.GetSpacing()\n",
    "    right=np.round(np.sum(right_vol_p)*spc_x*spc_y*spc_z,3)\n",
    "    left=np.round(np.sum(left_vol_p)*spc_x*spc_y*spc_z,3)\n",
    "    \n",
    "    seg_itk=sitk.ReadImage(seg_path)\n",
    "    seg_npy=sitk.GetArrayFromImage(seg_itk)\n",
    "    mass_v=len(np.where(seg_npy==2)[0])\n",
    "    mass=np.round(mass_v*spc_x*spc_y*spc_z,3)\n",
    "    \n",
    "    right_vol.append(right)\n",
    "    left_vol.append(left)\n",
    "    total_vol.append(np.nansum(right+left))\n",
    "    mass_vol.append(mass)\n",
    "    p_id.append(int(f.split('/')[-1]))"
   ]
  },
  {
   "cell_type": "code",
   "execution_count": 42,
   "metadata": {},
   "outputs": [
    {
     "name": "stderr",
     "output_type": "stream",
     "text": [
      "100%|██████████| 95/95 [01:41<00:00,  1.07s/it]\n"
     ]
    }
   ],
   "source": [
    "for f in tqdm(subfiles('/home/ldh/1_Tindex/data/T_Index_nii_test/mask')):\n",
    "\n",
    "    seg_path=f\n",
    "    seg_itk=sitk.ReadImage(seg_path)\n",
    "    seg_npy=sitk.GetArrayFromImage(seg_itk)\n",
    "    seg_npy[seg_npy!=1]=0\n",
    "\n",
    "    labels=label(seg_npy)\n",
    "    right_vol_p=[]\n",
    "    left_vol_p=[]\n",
    "\n",
    "    for d in np.unique(labels)[1:]:\n",
    "        raw=np.zeros(seg_npy.shape)\n",
    "        raw[labels==d]=1\n",
    "\n",
    "        #right\n",
    "        if np.mean(np.where(raw==1)[-1])<250:\n",
    "            right_vol_p.append(len(np.where(raw==1)[0]))\n",
    "        #left\n",
    "        else:\n",
    "            left_vol_p.append(len(np.where(raw==1)[0]))\n",
    "            \n",
    "    spc_x,spc_y,spc_z=seg_itk.GetSpacing()\n",
    "    right=np.round(np.mean(right_vol_p)*spc_x*spc_y*spc_z,3)\n",
    "    left=np.round(np.mean(left_vol_p)*spc_x*spc_y*spc_z,3)\n",
    "    \n",
    "    seg_itk=sitk.ReadImage(seg_path)\n",
    "    seg_npy=sitk.GetArrayFromImage(seg_itk)\n",
    "    mass_v=len(np.where(seg_npy==2)[0])\n",
    "    mass=np.round(mass_v*spc_x*spc_y*spc_z,3)\n",
    "    \n",
    "    right_vol.append(right)\n",
    "    left_vol.append(left)\n",
    "    total_vol.append(np.nansum(right+left))\n",
    "    mass_vol.append(mass)\n",
    "    p_id.append(int(f.split('/')[-1].split('_')[0]))"
   ]
  },
  {
   "cell_type": "code",
   "execution_count": 43,
   "metadata": {},
   "outputs": [],
   "source": [
    "ori_df=pd.DataFrame({'p_id':p_id, 'right_vol':right_vol, 'left_vol':left_vol, 'total_vol':total_vol, 'mass_vol': mass_vol})"
   ]
  },
  {
   "cell_type": "code",
   "execution_count": 44,
   "metadata": {},
   "outputs": [],
   "source": [
    "df=pd.read_excel('/home/ldh/2_RF/data/PNX7Y_MR_CT_labeling_20220629.xlsx')"
   ]
  },
  {
   "cell_type": "code",
   "execution_count": 45,
   "metadata": {},
   "outputs": [],
   "source": [
    "pt_list=list(df['연번(No.)'])\n",
    "ptnb_list=list(df['Pt_number'])\n",
    "right_list=[]\n",
    "left_list=[]\n",
    "total_list=[]\n",
    "mass_list=[]\n",
    "for pt in pt_list:\n",
    "    ch=ori_df[ori_df['p_id']==pt]\n",
    "    \n",
    "    try:\n",
    "        right_list.append(ch['right_vol'].item())\n",
    "    except:\n",
    "        right_list.append(np.nan)\n",
    "    try:\n",
    "        left_list.append(ch['left_vol'].item())\n",
    "    except:\n",
    "        left_list.append(np.nan)\n",
    "    try:\n",
    "        total_list.append(np.nansum([right_list[-1],left_list[-1]]))\n",
    "    except:\n",
    "        total_list.append(np.nan)\n",
    "        \n",
    "    try:\n",
    "        mass_list.append(ch['mass_vol'].item())\n",
    "    except:\n",
    "        mass_list.append(np.nan)\n",
    "        \n",
    "    if total_list[-1]==0:\n",
    "        total_list[-1]=np.nan"
   ]
  },
  {
   "cell_type": "code",
   "execution_count": 46,
   "metadata": {},
   "outputs": [],
   "source": [
    "new_df=pd.DataFrame({'p_id':pt_list, 'pt_nb':ptnb_list, 'right_vol':right_list, 'left_vol':left_list, 'total_vol':total_list, 'mass_vol':mass_list})\n",
    "\n",
    "new_df.to_csv('/home/ldh/1_Tindex/data/volume_mass.csv', index=False)"
   ]
  },
  {
   "cell_type": "code",
   "execution_count": null,
   "metadata": {},
   "outputs": [],
   "source": []
  }
 ],
 "metadata": {
  "kernelspec": {
   "display_name": "Python 3",
   "language": "python",
   "name": "python3"
  },
  "language_info": {
   "codemirror_mode": {
    "name": "ipython",
    "version": 3
   },
   "file_extension": ".py",
   "mimetype": "text/x-python",
   "name": "python",
   "nbconvert_exporter": "python",
   "pygments_lexer": "ipython3",
   "version": "3.7.7"
  }
 },
 "nbformat": 4,
 "nbformat_minor": 4
}
