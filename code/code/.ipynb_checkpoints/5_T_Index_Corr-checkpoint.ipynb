{
 "cells": [
  {
   "cell_type": "code",
   "execution_count": 7,
   "metadata": {},
   "outputs": [],
   "source": [
    "import datetime\n",
    "\n",
    "import numpy as np\n",
    "import pandas as pd\n",
    "\n",
    "from scipy.stats import spearmanr, pearsonr\n",
    "from batchgenerators.utilities.file_and_folder_operations import *"
   ]
  },
  {
   "cell_type": "code",
   "execution_count": 8,
   "metadata": {},
   "outputs": [],
   "source": [
    "def corr_(x1, x2):\n",
    "    result = spearmanr(x1, x2)\n",
    "    return result[0], result[1]"
   ]
  },
  {
   "cell_type": "code",
   "execution_count": 9,
   "metadata": {},
   "outputs": [],
   "source": [
    "excel_path = 'T_Index_Extract.csv'\n",
    "df = pd.read_csv(excel_path)"
   ]
  },
  {
   "cell_type": "code",
   "execution_count": 10,
   "metadata": {},
   "outputs": [],
   "source": [
    "df = df.dropna(subset=['m_sn'])"
   ]
  },
  {
   "cell_type": "code",
   "execution_count": 11,
   "metadata": {},
   "outputs": [],
   "source": [
    "dis_date=df['Discharge_date'].values\n",
    "op_date=df['Op_date'].values"
   ]
  },
  {
   "cell_type": "code",
   "execution_count": 12,
   "metadata": {},
   "outputs": [],
   "source": [
    "wit = df['WIT'].values.astype(float)\n",
    "cr_dif = np.array(df['Postop_Cr_1D']) - np.array(df['Preop_cr']).astype(float)\n",
    "ebl = df['EBL'].fillna(0.).values.astype(float)\n",
    "op_time = df['Total Op time'].astype(float)"
   ]
  },
  {
   "cell_type": "code",
   "execution_count": 13,
   "metadata": {},
   "outputs": [],
   "source": [
    "TLS = [(datetime.datetime.strptime(dis, \"%Y-%m-%d\") - datetime.datetime.strptime(op, \"%Y-%m-%d\")).days for dis, op in zip(dis_date, op_date)]"
   ]
  },
  {
   "cell_type": "code",
   "execution_count": 14,
   "metadata": {},
   "outputs": [],
   "source": [
    "padua_score = df['PADUA_Score'].values.astype(float)\n",
    "renal_score = df['RENAL_Score'].values.astype(float)\n",
    "c_index_score_x = df['x_C_index'].values.astype(float)\n",
    "c_index_score_y = df['y_C_index'].values.astype(float)\n",
    "c_index_score = np.sqrt(c_index_score_x**2 + c_index_score_y**2)\n",
    "\n",
    "m_sn = df['m_sn'].values.astype(float)\n",
    "mps_sn = (df['mp_sn']+df['ms_sn']).values.astype(float)"
   ]
  },
  {
   "cell_type": "code",
   "execution_count": 15,
   "metadata": {},
   "outputs": [
    {
     "name": "stdout",
     "output_type": "stream",
     "text": [
      "z :  0.29018036174560224 , p_value :  0.0018224760477251092\n",
      "z :  0.3507743527166319 , p_value :  0.00013947850647472304\n",
      "z :  -0.24359090980003856 , p_value :  0.009325031133544076\n",
      "z :  0.5516590049592216 , p_value :  2.408270536380295e-10\n"
     ]
    }
   ],
   "source": [
    "var = wit\n",
    "z, p_value = corr_(var, padua_score)\n",
    "print('z : ', z, ', p_value : ', p_value)\n",
    "z, p_value = corr_(var, renal_score)\n",
    "print('z : ', z, ', p_value : ', p_value)\n",
    "z, p_value = corr_(var, c_index_score)\n",
    "print('z : ', z, ', p_value : ', p_value)\n",
    "z, p_value = corr_(var, mps_sn)\n",
    "print('z : ', z, ', p_value : ', p_value)"
   ]
  },
  {
   "cell_type": "code",
   "execution_count": 16,
   "metadata": {},
   "outputs": [
    {
     "name": "stdout",
     "output_type": "stream",
     "text": [
      "z :  0.29018036174560224 , p_value :  0.0018224760477251092\n",
      "z :  0.3507743527166319 , p_value :  0.00013947850647472304\n",
      "z :  -0.24359090980003856 , p_value :  0.009325031133544076\n",
      "\n",
      "z :  -0.16883706999001477 , p_value :  0.07383020710150696\n",
      "z :  0.5516590049592216 , p_value :  2.408270536380295e-10\n"
     ]
    }
   ],
   "source": [
    "var = wit\n",
    "z, p_value = corr_(var, padua_score)\n",
    "print('z : ', z, ', p_value : ', p_value)\n",
    "z, p_value = corr_(var, renal_score)\n",
    "print('z : ', z, ', p_value : ', p_value)\n",
    "z, p_value = corr_(var, c_index_score)\n",
    "print('z : ', z, ', p_value : ', p_value)\n",
    "print('')\n",
    "z, p_value = corr_(var, m_sn)\n",
    "print('z : ', z, ', p_value : ', p_value)\n",
    "z, p_value = corr_(var, mps_sn)\n",
    "print('z : ', z, ', p_value : ', p_value)"
   ]
  },
  {
   "cell_type": "code",
   "execution_count": 21,
   "metadata": {},
   "outputs": [
    {
     "name": "stdout",
     "output_type": "stream",
     "text": [
      "z :  0.16141942134622722 , p_value :  0.08762637048914224\n",
      "z :  0.2533893978094836 , p_value :  0.00676980479024906\n",
      "z :  -0.1824018982812391 , p_value :  0.05315562114411936\n",
      "\n",
      "z :  -0.12558678818664515 , p_value :  0.1850330136389228\n",
      "z :  0.40268388030897234 , p_value :  9.793349895535945e-06\n"
     ]
    }
   ],
   "source": [
    "var = cr_dif\n",
    "z, p_value = corr_(var, padua_score)\n",
    "print('z : ', z, ', p_value : ', p_value)\n",
    "z, p_value = corr_(var, renal_score)\n",
    "print('z : ', z, ', p_value : ', p_value)\n",
    "z, p_value = corr_(var, c_index_score)\n",
    "print('z : ', z, ', p_value : ', p_value)\n",
    "print('')\n",
    "z, p_value = corr_(var, m_sn)\n",
    "print('z : ', z, ', p_value : ', p_value)\n",
    "z, p_value = corr_(var, mps_sn)\n",
    "print('z : ', z, ', p_value : ', p_value)"
   ]
  },
  {
   "cell_type": "code",
   "execution_count": 18,
   "metadata": {},
   "outputs": [
    {
     "name": "stdout",
     "output_type": "stream",
     "text": [
      "z :  0.16238768284154012 , p_value :  0.0857169042556227\n",
      "z :  0.09950916786578498 , p_value :  0.2943433741159813\n",
      "z :  -0.03270213914054236 , p_value :  0.7309550784356114\n",
      "\n",
      "z :  -0.11290330314248587 , p_value :  0.2337927838246719\n",
      "z :  0.2382646425827462 , p_value :  0.011042908071563506\n"
     ]
    }
   ],
   "source": [
    "var = ebl\n",
    "z, p_value = corr_(var, padua_score)\n",
    "print('z : ', z, ', p_value : ', p_value)\n",
    "z, p_value = corr_(var, renal_score)\n",
    "print('z : ', z, ', p_value : ', p_value)\n",
    "z, p_value = corr_(var, c_index_score)\n",
    "print('z : ', z, ', p_value : ', p_value)\n",
    "print('')\n",
    "z, p_value = corr_(var, m_sn)\n",
    "print('z : ', z, ', p_value : ', p_value)\n",
    "z, p_value = corr_(var, mps_sn)\n",
    "print('z : ', z, ', p_value : ', p_value)"
   ]
  },
  {
   "cell_type": "code",
   "execution_count": 19,
   "metadata": {},
   "outputs": [
    {
     "name": "stdout",
     "output_type": "stream",
     "text": [
      "z :  0.08686882315571517 , p_value :  0.3602483354244157\n",
      "z :  0.07648646790855522 , p_value :  0.42070276710258914\n",
      "z :  -0.2526831745906187 , p_value :  0.006930652130961605\n",
      "\n",
      "z :  0.004383566217555578 , p_value :  0.9632464401873703\n",
      "z :  0.25497882131489313 , p_value :  0.00641985029426889\n"
     ]
    }
   ],
   "source": [
    "var = op_time\n",
    "z, p_value = corr_(var, padua_score)\n",
    "print('z : ', z, ', p_value : ', p_value)\n",
    "z, p_value = corr_(var, renal_score)\n",
    "print('z : ', z, ', p_value : ', p_value)\n",
    "z, p_value = corr_(var, c_index_score)\n",
    "print('z : ', z, ', p_value : ', p_value)\n",
    "print('')\n",
    "z, p_value = corr_(var, m_sn)\n",
    "print('z : ', z, ', p_value : ', p_value)\n",
    "z, p_value = corr_(var, mps_sn)\n",
    "print('z : ', z, ', p_value : ', p_value)"
   ]
  },
  {
   "cell_type": "code",
   "execution_count": 20,
   "metadata": {},
   "outputs": [
    {
     "name": "stdout",
     "output_type": "stream",
     "text": [
      "z :  0.0865056983484095 , p_value :  0.3622673630728048\n",
      "z :  0.10257309416812345 , p_value :  0.27965353501776913\n",
      "z :  -0.1745504287442643 , p_value :  0.06444509500241732\n",
      "\n",
      "z :  -0.14734152520694066 , p_value :  0.11938504656174632\n",
      "z :  0.19170416927665115 , p_value :  0.041942315672624575\n"
     ]
    }
   ],
   "source": [
    "var = TLS\n",
    "z, p_value = corr_(var, padua_score)\n",
    "print('z : ', z, ', p_value : ', p_value)\n",
    "z, p_value = corr_(var, renal_score)\n",
    "print('z : ', z, ', p_value : ', p_value)\n",
    "z, p_value = corr_(var, c_index_score)\n",
    "print('z : ', z, ', p_value : ', p_value)\n",
    "print('')\n",
    "z, p_value = corr_(var, m_sn)\n",
    "print('z : ', z, ', p_value : ', p_value)\n",
    "z, p_value = corr_(var, mps_sn)\n",
    "print('z : ', z, ', p_value : ', p_value)"
   ]
  },
  {
   "cell_type": "code",
   "execution_count": null,
   "metadata": {},
   "outputs": [],
   "source": []
  },
  {
   "cell_type": "code",
   "execution_count": 40,
   "metadata": {},
   "outputs": [],
   "source": [
    "path = '/data/T_Index/splits_final.pkl'\n",
    "a=load_pickle(path)\n",
    "val_list = a[0]['val']\n",
    "\n",
    "new_df = df[df['No'].isin(val_list)]"
   ]
  },
  {
   "cell_type": "code",
   "execution_count": 43,
   "metadata": {},
   "outputs": [],
   "source": [
    "m_sn = new_df['m_sn']\n",
    "mp_sn = new_df['mp_sn']\n",
    "ms_sn = new_df['ms_sn']\n",
    "\n",
    "m_sn_ai = new_df['m_sn_ai']\n",
    "mp_sn_ai = new_df['mp_sn_ai']\n",
    "ms_sn_ai = new_df['ms_sn_ai']"
   ]
  },
  {
   "cell_type": "code",
   "execution_count": 44,
   "metadata": {},
   "outputs": [
    {
     "data": {
      "text/html": [
       "<div>\n",
       "<style scoped>\n",
       "    .dataframe tbody tr th:only-of-type {\n",
       "        vertical-align: middle;\n",
       "    }\n",
       "\n",
       "    .dataframe tbody tr th {\n",
       "        vertical-align: top;\n",
       "    }\n",
       "\n",
       "    .dataframe thead th {\n",
       "        text-align: right;\n",
       "    }\n",
       "</style>\n",
       "<table border=\"1\" class=\"dataframe\">\n",
       "  <thead>\n",
       "    <tr style=\"text-align: right;\">\n",
       "      <th></th>\n",
       "      <th>Type</th>\n",
       "      <th>Description</th>\n",
       "      <th>ICC</th>\n",
       "      <th>F</th>\n",
       "      <th>df1</th>\n",
       "      <th>df2</th>\n",
       "      <th>pval</th>\n",
       "      <th>CI95%</th>\n",
       "    </tr>\n",
       "  </thead>\n",
       "  <tbody>\n",
       "    <tr>\n",
       "      <th>0</th>\n",
       "      <td>ICC1</td>\n",
       "      <td>Single raters absolute</td>\n",
       "      <td>0.996</td>\n",
       "      <td>507.448</td>\n",
       "      <td>16</td>\n",
       "      <td>17</td>\n",
       "      <td>0.0</td>\n",
       "      <td>[0.99, 1.0]</td>\n",
       "    </tr>\n",
       "    <tr>\n",
       "      <th>1</th>\n",
       "      <td>ICC2</td>\n",
       "      <td>Single random raters</td>\n",
       "      <td>0.996</td>\n",
       "      <td>641.480</td>\n",
       "      <td>16</td>\n",
       "      <td>16</td>\n",
       "      <td>0.0</td>\n",
       "      <td>[0.99, 1.0]</td>\n",
       "    </tr>\n",
       "    <tr>\n",
       "      <th>2</th>\n",
       "      <td>ICC3</td>\n",
       "      <td>Single fixed raters</td>\n",
       "      <td>0.997</td>\n",
       "      <td>641.480</td>\n",
       "      <td>16</td>\n",
       "      <td>16</td>\n",
       "      <td>0.0</td>\n",
       "      <td>[0.99, 1.0]</td>\n",
       "    </tr>\n",
       "    <tr>\n",
       "      <th>3</th>\n",
       "      <td>ICC1k</td>\n",
       "      <td>Average raters absolute</td>\n",
       "      <td>0.998</td>\n",
       "      <td>507.448</td>\n",
       "      <td>16</td>\n",
       "      <td>17</td>\n",
       "      <td>0.0</td>\n",
       "      <td>[0.99, 1.0]</td>\n",
       "    </tr>\n",
       "    <tr>\n",
       "      <th>4</th>\n",
       "      <td>ICC2k</td>\n",
       "      <td>Average random raters</td>\n",
       "      <td>0.998</td>\n",
       "      <td>641.480</td>\n",
       "      <td>16</td>\n",
       "      <td>16</td>\n",
       "      <td>0.0</td>\n",
       "      <td>[0.99, 1.0]</td>\n",
       "    </tr>\n",
       "    <tr>\n",
       "      <th>5</th>\n",
       "      <td>ICC3k</td>\n",
       "      <td>Average fixed raters</td>\n",
       "      <td>0.998</td>\n",
       "      <td>641.480</td>\n",
       "      <td>16</td>\n",
       "      <td>16</td>\n",
       "      <td>0.0</td>\n",
       "      <td>[1.0, 1.0]</td>\n",
       "    </tr>\n",
       "  </tbody>\n",
       "</table>\n",
       "</div>"
      ],
      "text/plain": [
       "    Type              Description    ICC        F  df1  df2  pval        CI95%\n",
       "0   ICC1   Single raters absolute  0.996  507.448   16   17   0.0  [0.99, 1.0]\n",
       "1   ICC2     Single random raters  0.996  641.480   16   16   0.0  [0.99, 1.0]\n",
       "2   ICC3      Single fixed raters  0.997  641.480   16   16   0.0  [0.99, 1.0]\n",
       "3  ICC1k  Average raters absolute  0.998  507.448   16   17   0.0  [0.99, 1.0]\n",
       "4  ICC2k    Average random raters  0.998  641.480   16   16   0.0  [0.99, 1.0]\n",
       "5  ICC3k     Average fixed raters  0.998  641.480   16   16   0.0   [1.0, 1.0]"
      ]
     },
     "execution_count": 44,
     "metadata": {},
     "output_type": "execute_result"
    }
   ],
   "source": [
    "# m_sn\n",
    "d = {\n",
    "    'p_number' : [nb for nb in range(1,len(m_sn)+1)]+[nb for nb in range(1,len(m_sn)+1)], \n",
    "    'm_sn' : np.hstack((m_sn, m_sn_ai)),\n",
    "    'pred' : np.hstack((['gt']*len(m_sn), ['pred']*len(m_sn)))\n",
    "    }\n",
    "df = pd.DataFrame(data=d)\n",
    "icc = pg.intraclass_corr(data=df, targets='p_number', ratings = 'm_sn', raters='pred').round(3)\n",
    "icc"
   ]
  },
  {
   "cell_type": "code",
   "execution_count": 45,
   "metadata": {},
   "outputs": [
    {
     "data": {
      "text/html": [
       "<div>\n",
       "<style scoped>\n",
       "    .dataframe tbody tr th:only-of-type {\n",
       "        vertical-align: middle;\n",
       "    }\n",
       "\n",
       "    .dataframe tbody tr th {\n",
       "        vertical-align: top;\n",
       "    }\n",
       "\n",
       "    .dataframe thead th {\n",
       "        text-align: right;\n",
       "    }\n",
       "</style>\n",
       "<table border=\"1\" class=\"dataframe\">\n",
       "  <thead>\n",
       "    <tr style=\"text-align: right;\">\n",
       "      <th></th>\n",
       "      <th>Type</th>\n",
       "      <th>Description</th>\n",
       "      <th>ICC</th>\n",
       "      <th>F</th>\n",
       "      <th>df1</th>\n",
       "      <th>df2</th>\n",
       "      <th>pval</th>\n",
       "      <th>CI95%</th>\n",
       "    </tr>\n",
       "  </thead>\n",
       "  <tbody>\n",
       "    <tr>\n",
       "      <th>0</th>\n",
       "      <td>ICC1</td>\n",
       "      <td>Single raters absolute</td>\n",
       "      <td>0.970</td>\n",
       "      <td>65.621</td>\n",
       "      <td>16</td>\n",
       "      <td>17</td>\n",
       "      <td>0.0</td>\n",
       "      <td>[0.92, 0.99]</td>\n",
       "    </tr>\n",
       "    <tr>\n",
       "      <th>1</th>\n",
       "      <td>ICC2</td>\n",
       "      <td>Single random raters</td>\n",
       "      <td>0.970</td>\n",
       "      <td>68.525</td>\n",
       "      <td>16</td>\n",
       "      <td>16</td>\n",
       "      <td>0.0</td>\n",
       "      <td>[0.92, 0.99]</td>\n",
       "    </tr>\n",
       "    <tr>\n",
       "      <th>2</th>\n",
       "      <td>ICC3</td>\n",
       "      <td>Single fixed raters</td>\n",
       "      <td>0.971</td>\n",
       "      <td>68.525</td>\n",
       "      <td>16</td>\n",
       "      <td>16</td>\n",
       "      <td>0.0</td>\n",
       "      <td>[0.92, 0.99]</td>\n",
       "    </tr>\n",
       "    <tr>\n",
       "      <th>3</th>\n",
       "      <td>ICC1k</td>\n",
       "      <td>Average raters absolute</td>\n",
       "      <td>0.985</td>\n",
       "      <td>65.621</td>\n",
       "      <td>16</td>\n",
       "      <td>17</td>\n",
       "      <td>0.0</td>\n",
       "      <td>[0.96, 0.99]</td>\n",
       "    </tr>\n",
       "    <tr>\n",
       "      <th>4</th>\n",
       "      <td>ICC2k</td>\n",
       "      <td>Average random raters</td>\n",
       "      <td>0.985</td>\n",
       "      <td>68.525</td>\n",
       "      <td>16</td>\n",
       "      <td>16</td>\n",
       "      <td>0.0</td>\n",
       "      <td>[0.96, 0.99]</td>\n",
       "    </tr>\n",
       "    <tr>\n",
       "      <th>5</th>\n",
       "      <td>ICC3k</td>\n",
       "      <td>Average fixed raters</td>\n",
       "      <td>0.985</td>\n",
       "      <td>68.525</td>\n",
       "      <td>16</td>\n",
       "      <td>16</td>\n",
       "      <td>0.0</td>\n",
       "      <td>[0.96, 0.99]</td>\n",
       "    </tr>\n",
       "  </tbody>\n",
       "</table>\n",
       "</div>"
      ],
      "text/plain": [
       "    Type              Description    ICC       F  df1  df2  pval         CI95%\n",
       "0   ICC1   Single raters absolute  0.970  65.621   16   17   0.0  [0.92, 0.99]\n",
       "1   ICC2     Single random raters  0.970  68.525   16   16   0.0  [0.92, 0.99]\n",
       "2   ICC3      Single fixed raters  0.971  68.525   16   16   0.0  [0.92, 0.99]\n",
       "3  ICC1k  Average raters absolute  0.985  65.621   16   17   0.0  [0.96, 0.99]\n",
       "4  ICC2k    Average random raters  0.985  68.525   16   16   0.0  [0.96, 0.99]\n",
       "5  ICC3k     Average fixed raters  0.985  68.525   16   16   0.0  [0.96, 0.99]"
      ]
     },
     "execution_count": 45,
     "metadata": {},
     "output_type": "execute_result"
    }
   ],
   "source": [
    "# mp_sn\n",
    "d = {\n",
    "    'p_number' : [nb for nb in range(1,len(mp_sn)+1)]+[nb for nb in range(1,len(mp_sn)+1)], \n",
    "    'mp_sn' : np.hstack((mp_sn, mp_sn_ai)),\n",
    "    'pred' : np.hstack((['gt']*len(mp_sn), ['pred']*len(mp_sn)))\n",
    "    }\n",
    "df = pd.DataFrame(data=d)\n",
    "icc = pg.intraclass_corr(data=df, targets='p_number', ratings = 'mp_sn', raters='pred').round(3)\n",
    "icc"
   ]
  },
  {
   "cell_type": "code",
   "execution_count": 46,
   "metadata": {},
   "outputs": [
    {
     "data": {
      "text/html": [
       "<div>\n",
       "<style scoped>\n",
       "    .dataframe tbody tr th:only-of-type {\n",
       "        vertical-align: middle;\n",
       "    }\n",
       "\n",
       "    .dataframe tbody tr th {\n",
       "        vertical-align: top;\n",
       "    }\n",
       "\n",
       "    .dataframe thead th {\n",
       "        text-align: right;\n",
       "    }\n",
       "</style>\n",
       "<table border=\"1\" class=\"dataframe\">\n",
       "  <thead>\n",
       "    <tr style=\"text-align: right;\">\n",
       "      <th></th>\n",
       "      <th>Type</th>\n",
       "      <th>Description</th>\n",
       "      <th>ICC</th>\n",
       "      <th>F</th>\n",
       "      <th>df1</th>\n",
       "      <th>df2</th>\n",
       "      <th>pval</th>\n",
       "      <th>CI95%</th>\n",
       "    </tr>\n",
       "  </thead>\n",
       "  <tbody>\n",
       "    <tr>\n",
       "      <th>0</th>\n",
       "      <td>ICC1</td>\n",
       "      <td>Single raters absolute</td>\n",
       "      <td>0.914</td>\n",
       "      <td>22.281</td>\n",
       "      <td>16</td>\n",
       "      <td>17</td>\n",
       "      <td>0.0</td>\n",
       "      <td>[0.78, 0.97]</td>\n",
       "    </tr>\n",
       "    <tr>\n",
       "      <th>1</th>\n",
       "      <td>ICC2</td>\n",
       "      <td>Single random raters</td>\n",
       "      <td>0.914</td>\n",
       "      <td>24.019</td>\n",
       "      <td>16</td>\n",
       "      <td>16</td>\n",
       "      <td>0.0</td>\n",
       "      <td>[0.78, 0.97]</td>\n",
       "    </tr>\n",
       "    <tr>\n",
       "      <th>2</th>\n",
       "      <td>ICC3</td>\n",
       "      <td>Single fixed raters</td>\n",
       "      <td>0.920</td>\n",
       "      <td>24.019</td>\n",
       "      <td>16</td>\n",
       "      <td>16</td>\n",
       "      <td>0.0</td>\n",
       "      <td>[0.79, 0.97]</td>\n",
       "    </tr>\n",
       "    <tr>\n",
       "      <th>3</th>\n",
       "      <td>ICC1k</td>\n",
       "      <td>Average raters absolute</td>\n",
       "      <td>0.955</td>\n",
       "      <td>22.281</td>\n",
       "      <td>16</td>\n",
       "      <td>17</td>\n",
       "      <td>0.0</td>\n",
       "      <td>[0.88, 0.98]</td>\n",
       "    </tr>\n",
       "    <tr>\n",
       "      <th>4</th>\n",
       "      <td>ICC2k</td>\n",
       "      <td>Average random raters</td>\n",
       "      <td>0.955</td>\n",
       "      <td>24.019</td>\n",
       "      <td>16</td>\n",
       "      <td>16</td>\n",
       "      <td>0.0</td>\n",
       "      <td>[0.88, 0.98]</td>\n",
       "    </tr>\n",
       "    <tr>\n",
       "      <th>5</th>\n",
       "      <td>ICC3k</td>\n",
       "      <td>Average fixed raters</td>\n",
       "      <td>0.958</td>\n",
       "      <td>24.019</td>\n",
       "      <td>16</td>\n",
       "      <td>16</td>\n",
       "      <td>0.0</td>\n",
       "      <td>[0.89, 0.98]</td>\n",
       "    </tr>\n",
       "  </tbody>\n",
       "</table>\n",
       "</div>"
      ],
      "text/plain": [
       "    Type              Description    ICC       F  df1  df2  pval         CI95%\n",
       "0   ICC1   Single raters absolute  0.914  22.281   16   17   0.0  [0.78, 0.97]\n",
       "1   ICC2     Single random raters  0.914  24.019   16   16   0.0  [0.78, 0.97]\n",
       "2   ICC3      Single fixed raters  0.920  24.019   16   16   0.0  [0.79, 0.97]\n",
       "3  ICC1k  Average raters absolute  0.955  22.281   16   17   0.0  [0.88, 0.98]\n",
       "4  ICC2k    Average random raters  0.955  24.019   16   16   0.0  [0.88, 0.98]\n",
       "5  ICC3k     Average fixed raters  0.958  24.019   16   16   0.0  [0.89, 0.98]"
      ]
     },
     "execution_count": 46,
     "metadata": {},
     "output_type": "execute_result"
    }
   ],
   "source": [
    "# ms_sn\n",
    "d = {\n",
    "    'p_number' : [nb for nb in range(1,len(ms_sn)+1)]+[nb for nb in range(1,len(ms_sn)+1)], \n",
    "    'ms_sn' : np.hstack((ms_sn, ms_sn_ai)),\n",
    "    'pred' : np.hstack((['gt']*len(ms_sn), ['pred']*len(ms_sn)))\n",
    "    }\n",
    "df = pd.DataFrame(data=d)\n",
    "icc = pg.intraclass_corr(data=df, targets='p_number', ratings = 'ms_sn', raters='pred').round(3)\n",
    "icc"
   ]
  },
  {
   "cell_type": "code",
   "execution_count": null,
   "metadata": {},
   "outputs": [],
   "source": []
  },
  {
   "cell_type": "code",
   "execution_count": 82,
   "metadata": {},
   "outputs": [
    {
     "data": {
      "text/plain": [
       "-0.27564"
      ]
     },
     "execution_count": 82,
     "metadata": {},
     "output_type": "execute_result"
    }
   ],
   "source": [
    "-0.03271-0.24293"
   ]
  },
  {
   "cell_type": "code",
   "execution_count": 93,
   "metadata": {},
   "outputs": [
    {
     "data": {
      "text/plain": [
       "-0.61132"
      ]
     },
     "execution_count": 93,
     "metadata": {},
     "output_type": "execute_result"
    }
   ],
   "source": [
    "-0.18447-0.42685"
   ]
  },
  {
   "cell_type": "code",
   "execution_count": null,
   "metadata": {},
   "outputs": [],
   "source": []
  }
 ],
 "metadata": {
  "kernelspec": {
   "display_name": "Python 3",
   "language": "python",
   "name": "python3"
  },
  "language_info": {
   "codemirror_mode": {
    "name": "ipython",
    "version": 3
   },
   "file_extension": ".py",
   "mimetype": "text/x-python",
   "name": "python",
   "nbconvert_exporter": "python",
   "pygments_lexer": "ipython3",
   "version": "3.7.7"
  }
 },
 "nbformat": 4,
 "nbformat_minor": 4
}
